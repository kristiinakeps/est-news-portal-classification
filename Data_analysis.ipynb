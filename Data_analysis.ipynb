{
  "nbformat": 4,
  "nbformat_minor": 0,
  "metadata": {
    "colab": {
      "name": "Data_analysis.ipynb",
      "provenance": [],
      "collapsed_sections": [],
      "toc_visible": true
    },
    "kernelspec": {
      "name": "python3",
      "display_name": "Python 3"
    },
    "language_info": {
      "name": "python"
    },
    "accelerator": "GPU"
  },
  "cells": [
    {
      "cell_type": "markdown",
      "metadata": {
        "id": "P4L7itHgjTFq"
      },
      "source": [
        "### Installing the estnltk package that is made for usage in Colab"
      ]
    },
    {
      "cell_type": "code",
      "metadata": {
        "colab": {
          "base_uri": "https://localhost:8080/"
        },
        "id": "lfav5VAmnMBK",
        "outputId": "ce34746b-bea8-4563-c3a9-b93d7a84205e"
      },
      "source": [
        "!pip install estnltk==1.6.7b0"
      ],
      "execution_count": 1,
      "outputs": [
        {
          "output_type": "stream",
          "text": [
            "Collecting estnltk==1.6.7b0\n",
            "\u001b[?25l  Downloading https://files.pythonhosted.org/packages/6f/08/af49c514576c0a08cd245ec22f4876779f1ae68129be71b8ad24184aada5/estnltk-1.6.7b0-cp37-cp37m-manylinux2014_x86_64.whl (99.4MB)\n",
            "\u001b[K     |████████████████████████████████| 99.4MB 97kB/s \n",
            "\u001b[?25hRequirement already satisfied: tqdm in /usr/local/lib/python3.7/dist-packages (from estnltk==1.6.7b0) (4.41.1)\n",
            "Requirement already satisfied: ipython in /usr/local/lib/python3.7/dist-packages (from estnltk==1.6.7b0) (5.5.0)\n",
            "Requirement already satisfied: regex>=2015.07.19 in /usr/local/lib/python3.7/dist-packages (from estnltk==1.6.7b0) (2019.12.20)\n",
            "Collecting conllu>=3.1.1; python_version >= \"3.6\"\n",
            "  Downloading https://files.pythonhosted.org/packages/ae/be/be6959c3ff2dbfdd87de4be0ccdff577835b5d08b1d25bf7fd4aaf0d7add/conllu-4.4-py2.py3-none-any.whl\n",
            "Requirement already satisfied: html5lib in /usr/local/lib/python3.7/dist-packages (from estnltk==1.6.7b0) (1.0.1)\n",
            "Requirement already satisfied: pandas>=1.1.5; python_version > \"3.6\" in /usr/local/lib/python3.7/dist-packages (from estnltk==1.6.7b0) (1.1.5)\n",
            "Requirement already satisfied: bs4 in /usr/local/lib/python3.7/dist-packages (from estnltk==1.6.7b0) (0.0.1)\n",
            "Requirement already satisfied: requests in /usr/local/lib/python3.7/dist-packages (from estnltk==1.6.7b0) (2.23.0)\n",
            "Collecting cached-property>=1.2.0\n",
            "  Downloading https://files.pythonhosted.org/packages/48/19/f2090f7dad41e225c7f2326e4cfe6fff49e57dedb5b53636c9551f86b069/cached_property-1.5.2-py2.py3-none-any.whl\n",
            "Requirement already satisfied: lxml in /usr/local/lib/python3.7/dist-packages (from estnltk==1.6.7b0) (4.2.6)\n",
            "Collecting nltk>=3.4.1\n",
            "\u001b[?25l  Downloading https://files.pythonhosted.org/packages/5e/37/9532ddd4b1bbb619333d5708aaad9bf1742f051a664c3c6fa6632a105fd8/nltk-3.6.2-py3-none-any.whl (1.5MB)\n",
            "\u001b[K     |████████████████████████████████| 1.5MB 35.8MB/s \n",
            "\u001b[?25hRequirement already satisfied: matplotlib in /usr/local/lib/python3.7/dist-packages (from estnltk==1.6.7b0) (3.2.2)\n",
            "Requirement already satisfied: networkx in /usr/local/lib/python3.7/dist-packages (from estnltk==1.6.7b0) (2.5.1)\n",
            "Collecting python-crfsuite>=0.8.3\n",
            "\u001b[?25l  Downloading https://files.pythonhosted.org/packages/79/47/58f16c46506139f17de4630dbcfb877ce41a6355a1bbf3c443edb9708429/python_crfsuite-0.9.7-cp37-cp37m-manylinux1_x86_64.whl (743kB)\n",
            "\u001b[K     |████████████████████████████████| 747kB 49.3MB/s \n",
            "\u001b[?25hRequirement already satisfied: pexpect; sys_platform != \"win32\" in /usr/local/lib/python3.7/dist-packages (from ipython->estnltk==1.6.7b0) (4.8.0)\n",
            "Requirement already satisfied: traitlets>=4.2 in /usr/local/lib/python3.7/dist-packages (from ipython->estnltk==1.6.7b0) (5.0.5)\n",
            "Requirement already satisfied: decorator in /usr/local/lib/python3.7/dist-packages (from ipython->estnltk==1.6.7b0) (4.4.2)\n",
            "Requirement already satisfied: simplegeneric>0.8 in /usr/local/lib/python3.7/dist-packages (from ipython->estnltk==1.6.7b0) (0.8.1)\n",
            "Requirement already satisfied: prompt-toolkit<2.0.0,>=1.0.4 in /usr/local/lib/python3.7/dist-packages (from ipython->estnltk==1.6.7b0) (1.0.18)\n",
            "Requirement already satisfied: pygments in /usr/local/lib/python3.7/dist-packages (from ipython->estnltk==1.6.7b0) (2.6.1)\n",
            "Requirement already satisfied: setuptools>=18.5 in /usr/local/lib/python3.7/dist-packages (from ipython->estnltk==1.6.7b0) (56.1.0)\n",
            "Requirement already satisfied: pickleshare in /usr/local/lib/python3.7/dist-packages (from ipython->estnltk==1.6.7b0) (0.7.5)\n",
            "Requirement already satisfied: six>=1.9 in /usr/local/lib/python3.7/dist-packages (from html5lib->estnltk==1.6.7b0) (1.15.0)\n",
            "Requirement already satisfied: webencodings in /usr/local/lib/python3.7/dist-packages (from html5lib->estnltk==1.6.7b0) (0.5.1)\n",
            "Requirement already satisfied: numpy>=1.15.4 in /usr/local/lib/python3.7/dist-packages (from pandas>=1.1.5; python_version > \"3.6\"->estnltk==1.6.7b0) (1.19.5)\n",
            "Requirement already satisfied: python-dateutil>=2.7.3 in /usr/local/lib/python3.7/dist-packages (from pandas>=1.1.5; python_version > \"3.6\"->estnltk==1.6.7b0) (2.8.1)\n",
            "Requirement already satisfied: pytz>=2017.2 in /usr/local/lib/python3.7/dist-packages (from pandas>=1.1.5; python_version > \"3.6\"->estnltk==1.6.7b0) (2018.9)\n",
            "Requirement already satisfied: beautifulsoup4 in /usr/local/lib/python3.7/dist-packages (from bs4->estnltk==1.6.7b0) (4.6.3)\n",
            "Requirement already satisfied: urllib3!=1.25.0,!=1.25.1,<1.26,>=1.21.1 in /usr/local/lib/python3.7/dist-packages (from requests->estnltk==1.6.7b0) (1.24.3)\n",
            "Requirement already satisfied: certifi>=2017.4.17 in /usr/local/lib/python3.7/dist-packages (from requests->estnltk==1.6.7b0) (2020.12.5)\n",
            "Requirement already satisfied: idna<3,>=2.5 in /usr/local/lib/python3.7/dist-packages (from requests->estnltk==1.6.7b0) (2.10)\n",
            "Requirement already satisfied: chardet<4,>=3.0.2 in /usr/local/lib/python3.7/dist-packages (from requests->estnltk==1.6.7b0) (3.0.4)\n",
            "Requirement already satisfied: joblib in /usr/local/lib/python3.7/dist-packages (from nltk>=3.4.1->estnltk==1.6.7b0) (1.0.1)\n",
            "Requirement already satisfied: click in /usr/local/lib/python3.7/dist-packages (from nltk>=3.4.1->estnltk==1.6.7b0) (7.1.2)\n",
            "Requirement already satisfied: cycler>=0.10 in /usr/local/lib/python3.7/dist-packages (from matplotlib->estnltk==1.6.7b0) (0.10.0)\n",
            "Requirement already satisfied: kiwisolver>=1.0.1 in /usr/local/lib/python3.7/dist-packages (from matplotlib->estnltk==1.6.7b0) (1.3.1)\n",
            "Requirement already satisfied: pyparsing!=2.0.4,!=2.1.2,!=2.1.6,>=2.0.1 in /usr/local/lib/python3.7/dist-packages (from matplotlib->estnltk==1.6.7b0) (2.4.7)\n",
            "Requirement already satisfied: ptyprocess>=0.5 in /usr/local/lib/python3.7/dist-packages (from pexpect; sys_platform != \"win32\"->ipython->estnltk==1.6.7b0) (0.7.0)\n",
            "Requirement already satisfied: ipython-genutils in /usr/local/lib/python3.7/dist-packages (from traitlets>=4.2->ipython->estnltk==1.6.7b0) (0.2.0)\n",
            "Requirement already satisfied: wcwidth in /usr/local/lib/python3.7/dist-packages (from prompt-toolkit<2.0.0,>=1.0.4->ipython->estnltk==1.6.7b0) (0.2.5)\n",
            "Installing collected packages: conllu, cached-property, nltk, python-crfsuite, estnltk\n",
            "  Found existing installation: nltk 3.2.5\n",
            "    Uninstalling nltk-3.2.5:\n",
            "      Successfully uninstalled nltk-3.2.5\n",
            "Successfully installed cached-property-1.5.2 conllu-4.4 estnltk-1.6.7b0 nltk-3.6.2 python-crfsuite-0.9.7\n"
          ],
          "name": "stdout"
        }
      ]
    },
    {
      "cell_type": "code",
      "metadata": {
        "id": "7piQn4-2nOZX",
        "colab": {
          "base_uri": "https://localhost:8080/"
        },
        "outputId": "ffe6edd6-f06f-4c3d-dc83-0d1d5beb470d"
      },
      "source": [
        "import pandas\n",
        "import numpy as np\n",
        "from estnltk.taggers import NerTagger\n",
        "from estnltk import Text\n",
        "from estnltk.taggers import WordLevelNerTagger\n",
        "from google.colab import files\n",
        "from wordcloud import WordCloud\n",
        "import matplotlib.pyplot as plt"
      ],
      "execution_count": 2,
      "outputs": [
        {
          "output_type": "stream",
          "text": [
            "[nltk_data] Downloading package punkt to /root/nltk_data...\n",
            "[nltk_data]   Unzipping tokenizers/punkt.zip.\n"
          ],
          "name": "stderr"
        }
      ]
    },
    {
      "cell_type": "markdown",
      "metadata": {
        "id": "5n0Bf3svjcHe"
      },
      "source": [
        "### Importing all data"
      ]
    },
    {
      "cell_type": "code",
      "metadata": {
        "id": "j0xkLjsXNJJe",
        "colab": {
          "base_uri": "https://localhost:8080/",
          "height": 1000
        },
        "outputId": "5d770dc9-0be2-48de-8352-3aa546f9bea4"
      },
      "source": [
        "elu24 = pandas.read_csv(\"elu24_final_new.csv\",sep=\";\",encoding=\"UTF-8\")\n",
        "elu24.drop(['Unnamed: 0','X.1'],axis=1)"
      ],
      "execution_count": 6,
      "outputs": [
        {
          "output_type": "execute_result",
          "data": {
            "text/html": [
              "<div>\n",
              "<style scoped>\n",
              "    .dataframe tbody tr th:only-of-type {\n",
              "        vertical-align: middle;\n",
              "    }\n",
              "\n",
              "    .dataframe tbody tr th {\n",
              "        vertical-align: top;\n",
              "    }\n",
              "\n",
              "    .dataframe thead th {\n",
              "        text-align: right;\n",
              "    }\n",
              "</style>\n",
              "<table border=\"1\" class=\"dataframe\">\n",
              "  <thead>\n",
              "    <tr style=\"text-align: right;\">\n",
              "      <th></th>\n",
              "      <th>X</th>\n",
              "      <th>pealkirjade_list</th>\n",
              "      <th>urls_list</th>\n",
              "      <th>rubriik_list</th>\n",
              "      <th>kuupaev_list</th>\n",
              "      <th>sisu</th>\n",
              "    </tr>\n",
              "  </thead>\n",
              "  <tbody>\n",
              "    <tr>\n",
              "      <th>0</th>\n",
              "      <td>1</td>\n",
              "      <td>82-aastasest Pae tänava pommimehest on saanud Youtube'i staar</td>\n",
              "      <td>https://www.postimees.ee/7233550/82-aastasest-pae-tanava-pommimehest-on-saanud-youtube-i-staar</td>\n",
              "      <td>Kirev elu</td>\n",
              "      <td>Eile, 19:00</td>\n",
              "      <td>Möödunud aasta novembris vabanes Viru vanglast pommimees Märt Ringmaa (82). Tuleb välja, et pärast vabanemist on mehest saanud omamoodi Youtube’i staar.|Märt Ringmaa vahistati 2005. aastal. Talle esitati kahtlustus seitsme aasta jooksul Tallinnas Pae tänaval pommiplahvatuste korraldamises. Lisaks süüdistati Ringmaad pensioniametile valeandmete esitamises, mille alusel maksti talle 2001. aasta maist kuni 2005. aasta novembrini alusetult vanaduspensioni - kokku summas 20 255 krooni.|2009. aasta kevadel tunnistas kohus Märt Ringmaa süüdi lõhkeseadeldiste ebaseaduslikus käitlemises, mõrvakatses ning kelmuses ja mehele mõisteti karistuseks 15 aastat vangistust. Karistuse ära kandnud Märt Ringmaa vabanes vanglast möödunud aasta 11. novembril.</td>\n",
              "    </tr>\n",
              "    <tr>\n",
              "      <th>1</th>\n",
              "      <td>2</td>\n",
              "      <td>Reporter: Miks Kätlin Kalamets kaubanduskeskustele ja lennujaamale pommiähvardused tegi?</td>\n",
              "      <td>https://www.postimees.ee/7233924/reporter-miks-katlin-kalamets-kaubanduskeskustele-ja-lennujaamale-pommiahvardused-tegi</td>\n",
              "      <td>Uudised</td>\n",
              "      <td>Eile, 18:36</td>\n",
              "      <td>Kohtu ees seisis 29-aastane naine, kes aasta tagasi tegi pommiähvardused mitmele kaubanduskeskusele ja lennujaamale. Lisaks pommiähvardustele veel ka vägivallatsemises ja auto ärandamises süüdi mõistetud Kätlin Kalamets ütles Reporterile, et tegi ähvardused endise elukaaslase survel.</td>\n",
              "    </tr>\n",
              "    <tr>\n",
              "      <th>2</th>\n",
              "      <td>3</td>\n",
              "      <td>Reporter: Tallinn-Helsingi tunneli eestvedajateks saavad riigid ja mitte ärimehed</td>\n",
              "      <td>https://www.postimees.ee/7233930/reporter-tallinn-helsingi-tunneli-eestvedajateks-saavad-riigid-ja-mitte-arimehed</td>\n",
              "      <td>Uudised</td>\n",
              "      <td>Eile, 18:36</td>\n",
              "      <td>Eesti ja Soome leppisid kokku, et Tallinn-Helsingi tunneli eestvedajateks saavad riigid ja mitte ärimehed. Mõlema riigi ministrite sõnul on tegemist niivõrd suure transpordiprojektiga, et selle eest tuleb vastutada kõige kõrgemal tasandil.</td>\n",
              "    </tr>\n",
              "    <tr>\n",
              "      <th>3</th>\n",
              "      <td>4</td>\n",
              "      <td>Reporter: Jõutõstja ja vegan? 15 aastat Londonis elanud Eesti meister Gert Koovit on tänu veganlusele palju tervem</td>\n",
              "      <td>https://www.postimees.ee/7233943/reporter-joutostja-ja-vegan-15-aastat-londonis-elanud-eesti-meister-gert-koovit-on-tanu-veganlusele-palju-tervem</td>\n",
              "      <td>Uudised</td>\n",
              "      <td>Eile, 18:27</td>\n",
              "      <td>Gert Koovit on mees, kes viimased 25 aastat aktiivselt spordiga tegelenud. Kulturismi juurest jõudis ta jõutõstmise juurde ja selle juurde on Gert ka jäänud. Peale vaadates ei oskaks aga arvatagi, et suur mehemürakas on vegan.</td>\n",
              "    </tr>\n",
              "    <tr>\n",
              "      <th>4</th>\n",
              "      <td>5</td>\n",
              "      <td>Armupommitamine: mis see on ning miks see suhtes niivõrd ohtlik on</td>\n",
              "      <td>https://www.postimees.ee/7233709/armupommitamine-mis-see-on-ning-miks-see-suhtes-niivord-ohtlik-on</td>\n",
              "      <td>Suhted &amp; seks</td>\n",
              "      <td>Eile, 18:26</td>\n",
              "      <td>Oleme Sõbrannas varem päris palju kirjutanud erinevatest taktikatest ja manipulatsioonimustritest, mida nartsissistid kellegagi suhtes olles kasutavad ning millega nad inimesi ümber oma sõrme keeravad.|Üks selliseid äärmiselt manipulatiivseid taktikaid, mida kasutavad suhtes nii nartsissistid kui ka lihtsalt (potentsiaalselt) vägivaldsed partnerid, on armupommitamine, mida on selle toimumise ajal sageli väga raske ära tunda või näha halva asjana.|«Armupommitamise peamised tunnused on liigne tähelepanu pööramine, kiindumus ja imetlus, mille eesmärgiks on panna pommitamise sihtmärgiks olevat inimest tundma end teisest poolest sõltuvana ning justkui ta oleks millekski kohustatud,» võtab teema väga lühidalt kokku terapeut Sasha Jackson. «Sihtmärgi jaoks tundub pommitamine aga väga meeldiv, sest toob endaga kaasa suure koguse heaoluhormoone, dopamiini ning endorfiine. Ta tunneb end erilise, vajaliku, armastatu, väärtusliku ning väärtustatuna - kõik need asjad aga tõstavad ning mõjutavad positiivselt inimese enesekindlust.»|Kas selline käitumine tundub meeldiv? Alguses võib kõik tõesti tunduda lausa perfektne, ehk isegi liiga perfektne. Sa võid arvata, et oled leidnud inimese, kes pole sinust mitte ainult sisse võetud, vaid valab su üle ka tähelepanu, armastuse ning kingitustega. Sa tunned, et viimaks ometi saabub sinu õuele õnn, kinnitused ning validatsioon, mida oled oodanud. Kuid siis, kui oled juba mõnda aega suhtes olnud, võib kooselu muutuda kiiresti millekski, mida sa enam ära ei tunne.|Nüüd ei kõla enam niivõrd meeldivalt, ega ju? Selleks, et aidata sul paremini armupommitamist mõista, otsida varakult ohumärke ning ennast asjade halvenemise eest hoida, võtavad sõna mitmed eksperdid, kes ühtlasi jagavad ka nõuandeid, kuidas sellisest olukorrast välja tulla, kui see juba käes on.</td>\n",
              "    </tr>\n",
              "    <tr>\n",
              "      <th>...</th>\n",
              "      <td>...</td>\n",
              "      <td>...</td>\n",
              "      <td>...</td>\n",
              "      <td>...</td>\n",
              "      <td>...</td>\n",
              "      <td>...</td>\n",
              "    </tr>\n",
              "    <tr>\n",
              "      <th>69785</th>\n",
              "      <td>69786</td>\n",
              "      <td>Advokaatide abielukool: abikaasadel on nii õigusi kui kohustusi</td>\n",
              "      <td>https://www.postimees.ee/4500774/advokaatide-abielukool-abikaasadel-on-nii-oigusi-kui-kohustusi</td>\n",
              "      <td>Suhted &amp; seks</td>\n",
              "      <td>7.06.2018, 16:48</td>\n",
              "      <td>Advokaat Helen Tomberg selgitab abielukooli kolmandas tunnis, millised varalised ja õiguslikud kohustused kaasnevad abieluga. Vaata videot!|</td>\n",
              "    </tr>\n",
              "    <tr>\n",
              "      <th>69786</th>\n",
              "      <td>69787</td>\n",
              "      <td>Tigran Gevorkjan koostööst Genkaga: ütlesin sõpradele, et tahad näha, kunagi teen selle vennaga loo</td>\n",
              "      <td>https://www.postimees.ee/4500901/tigran-gevorkjan-koostoost-genkaga-utlesin-sopradele-et-tahad-naha-kunagi-teen-selle-vennaga-loo</td>\n",
              "      <td>Elu24</td>\n",
              "      <td>7.06.2018, 16:47</td>\n",
              "      <td>Koomik ja räppar Tigran Gevorkjan ühendas uue loo ja muusikavideo tegemiseks jõud Eesti hip-hopi kuldvara Henry «Genka» Kõrvitsaga. Koostöö tegemist nägi Tigran juba 13-aastasena ette ja 14 aastat hiljem läkski «täiesti lappesse»!|Värske lugu kannab pealkirja «Lappes» ja on tõsine hip-hop ja huumor üheaegselt. Tigran on end osava sõnameistri ja räpparina tõestanud ning staažikale «Genkale» sugugi alla ei jäänud. Koostöö tekkeks pani Tigran kujundlikult «seemne mulda» juba lapsena: «Ma olin 13-aastat vana kui kuulasin Genkat ja teist Eesti hip-hoppi kui kunagi poolitsitades ütlesin sõpradele, et tahad näha ma teen kunagi selle vennaga loo. Nüüd, 14 aastat hiljem see juhtus. Olen väga rahul ikka ju!»|Madalal resolutsioonil ja Insta-filtritega elavdatud muusikavideo on Tigrani sõnul taotluslikult segane: «Mõtlesime, et kui lappes, siis las olla see ka lappes.»|Seda miks nii juhtub, et vahel «lappesse» läheb ei tea Tigrani sõnul keegi «See on see vana hea võlu selle asja juures!» |Värske video ja looga on mees ise väga rahul avaldades austust nii Henryle, loo instrumentaali autorile Paul Ojale ja mixmasterile Margo Rindemaale. «Suur kummardus ja respekt neile,» lisab ta.|Mees avaldab lootust, et ka tulevikus sünnivad koostööst mitmed vägevad projektid. Suures elevuses ei tasu aga liigselt asjade käigust ette rutata, vaid esmalt vaadata kuidas praegune värske üllitis mõjub:|</td>\n",
              "    </tr>\n",
              "    <tr>\n",
              "      <th>69787</th>\n",
              "      <td>69788</td>\n",
              "      <td>Airbusi uus lennuk on kui kosmoselaev</td>\n",
              "      <td>https://www.postimees.ee/4500867/airbusi-uus-lennuk-on-kui-kosmoselaev</td>\n",
              "      <td>Reisile</td>\n",
              "      <td>7.06.2018, 16:32</td>\n",
              "      <td>Airbus Corporate Jets (ACJ) avaldas hiljuti oma uue laia kerega eralennukite ACJ Harmony disaini, mis pärineb justkui fantaasiafilmist.|Uutes plaanitavates lennukites on salongiruumid kurvilised ja voolujoonelise disainiga. Lennukisse sisenedes ootab aga ees holograafiline gloobus, mis näitab lennutrajektoori, kirjutas Travel+Leisure.| Introducing Harmony - Airbus Corporate Jets new cabin concept - available now on the #ACJ330neo and #ACJ350 XWB corporate jets. Harmony combines the comfort and space of a VIP widebody cabin with the practicality to suit the longest of flights. &lt;U+2708&gt;&lt;U+FE0F&gt;&lt;U+0001F44C&gt;&lt;U+0001F3FB&gt; #airbus #airbuslovers #A330 #instaplane #aviation #aerospace #instaaviation #aviation #corporatejet #bizjet #ACJ #YourWorldAboveTheWorld #EBACE18A post shared by Airbus (@airbus) on May 28, 2018 at 6:01am PDT||Lennukis on ka kosmoselaeva stiilis lounge ala ümmarguste laudadega ning konverentsi/einestamise ruum kaarja kuut inimest mahutava laua, diivani ja VIP tualettruumidega. | Today is #A330 day (3/30) and we found the perfect venue to celebrate: the #ACJ330neo. Spacious, luxurious… what word describes its unique cabin best? &lt;U+2708&gt;&lt;U+FE0F&gt;&lt;U+2728&gt;#airbus #airbuslovers #plane #instaplane #aviation #instaaviation #vipjet #privatejet #luxuryA post shared by Airbus (@airbus) on Mar 30, 2018 at 5:59am PDT||Lennuki eesotsas on suur magamistuba, mille juurde kuulub vannituba, privaatne kontor ja salongipersonali puhkeala. Tagaosas on aga neli ruumi külalistele, kus igaühes on voodiks lahti käivad diivanid, eraldi tualettruumid ja kontoriala.|ACJ Harmony sisekujundus on planeeritud ACJ330neo privaatlennukitele, mis on kohandatav ka Airbus ACJ350XWB lennukite jaoks.</td>\n",
              "    </tr>\n",
              "    <tr>\n",
              "      <th>69788</th>\n",
              "      <td>69789</td>\n",
              "      <td>IKEA ühe ajastu lõpp: mööbligigant kutsub tagasi rihmülekandega jalgrattad</td>\n",
              "      <td>https://www.postimees.ee/4500604/ikea-uhe-ajastu-lopp-moobligigant-kutsub-tagasi-rihmulekandega-jalgrattad</td>\n",
              "      <td>Kodustiil</td>\n",
              "      <td>7.06.2018, 16:25</td>\n",
              "      <td>IKEA aasta tagasi müüki paisatud SLADDA-nimelise jalgratta viimnepäev on tulnud - mööbligigant kutsub ohutuse huvides ülemaailmselt tagasi kõik müüdud rattad.|Rootsi mööbligigant on 11 veateate valguses otsustanud tagasi kutsuda kõik SLADDA-nimelised jalgrattad. Üheteistkümnest ettevõttele saabunud kaebusest on siiamaani kaks kulmineerunud väiksemate vigastustega, seisab IKEA veebilehel olevas ametlikus teadaandes. Odavmööblipoe ratta puhul on osutunud problemaatiliseks selle rihmülekandega ketisüsteem, mis kipub sõitmisel purunema.|Mööbligigant nõuab tungivalt, et kõik ratta omanikud selle kasutamise lõpetaksid. Jalgrataste ostusumma hüvitatakse ostjatele täies ulatuses ning tagastamisel eraldi ostukviitungit ei nõuta.  |Mööbligigant vabandab võimalike ebameeldivuste pärast ning tänab kliente kannatlikkuse ja mõistmise eest.</td>\n",
              "    </tr>\n",
              "    <tr>\n",
              "      <th>69789</th>\n",
              "      <td>69790</td>\n",
              "      <td>Liibanonis konfiskeeriti 15 tonni hašišt, mida oli jalgpalliväljaku jagu</td>\n",
              "      <td>https://www.postimees.ee/4500912/liibanonis-konfiskeeriti-15-tonni-hasist-mida-oli-jalgpallivaljaku-jagu</td>\n",
              "      <td>Kirev elu</td>\n",
              "      <td>7.06.2018, 16:03</td>\n",
              "      <td>Liibanoni sisejulgeolekuteenistus sai kätte sealse suurima narkootikumikoguse, konfiskeerides 15 tonni hašišt ehk kanepivaiku.|Politseihaarang leidis aset 1. juunil, kuid julgeolekuteenistus avalikustas info ja pildid toimunu kohta sel nädalal, teatab newsweek.com.|«Tegemist oli hašišega, mida taheti saata Liibanonist Liibüasse ja Egiptusse, kuid me ei tea, milline oli lõplik sihtriik,» teatas Liibanoni sisejulgeolekuteenistuse juht Imad Osman.|Sisejulgeolekuteenistuse teatel oli konfiskeeritud narkokogus suurim, mis seal kunagi on kätte saadud.|Laohoones olnud hašišt oli nii palju, et sellega kaeti treeningjalgpalliväljak. Pildid valgetes kottides hašišest jalgpalliväljakul jõudsid Twitterisse.|Liibanoni sisejulgeolekuteenistuse teatel õnnestus neil samas lõhkuda rahvusvaheline kokaiinismugeldamise gäng ja arreteerida kolm sellega seotud inimest. Üks arreteeritutest on Vahemere riikides tuntud usujuht.|Liibanonis on hašiše omamine, müümine ja tarbimine keelatud. Samas on neid, kes keelust hoolimata india kanepit kasvatavad ja sellelt vaiku korjavad.|2017. aastal andis BBCle intervjuu Liibanoni tuntuim india kanepi kasvataja Ali Nasri Shamas, kes sõnas, et ta kasvandust valvavad relvastatud mehed.|Vaid mõni nädal pärast ta intervjuu avaldamist, tegid Liibanoni julgeolekujõud ta koju haarangu, konfiskeerides nii narkootikumi kui relvi.|Liibanoni poliitik Walid Jumblatt on aastaid võidelnud hašiše legaliseerimise eest. Tema sõnul on india kanepi kasvatamine aidanud vaeseid farmereid, kes muidu elaks näljas.|ÜRO andmetel toodetakse kanepivaiku kõige enam Marokos, sellele järgneb Afganistan, Liibanon, India ja Pakistan.|Liibanoni majandusekspertide arvates aitaks india kanepi kasvatamine ja hašiše tootmine elavdada Liibanoni majandust ning anda tööd Liibanonis olevale 1,5 miljonile Süüria põgenikule.|Hašiš ehk kanepivaik ehk charas ehk churrus on india kanepi emastaimede õisikutelt korjatav vaigusegu.|Hašiš klassifitseeritakse selles sisalduvate psühhotroopsete kannabinoidide tõttu narkootiliseks aineks. |Narkootiline joove tekib hašišit kas suu kaudu manustades või suitsetades.|Kanepivaiku tuntakse Araabias ja Lähis-Idas hašišina, Ameerikas ja Euroopas marihuaanana ja Põhja-Aafrikas kief'ina. |Hašiši hüüdnimed Eestis on plastiliin, tükk, hash ja maroko.|</td>\n",
              "    </tr>\n",
              "  </tbody>\n",
              "</table>\n",
              "<p>69790 rows × 6 columns</p>\n",
              "</div>"
            ],
            "text/plain": [
              "           X  ...                                                                                                                                                                                                                                                                                                                                                                                                                                                                                                                                                                                                                                                                                                                                                                                                                                                                                                                                                                                                                                                                                                                                                                                                                                                                                                                                                                                                                                                                                                                                                                                                                                                                                                                                                                                                                                                                                                                                                                                                                                                                                                                                                                                                                                                                                                                                                                                 sisu\n",
              "0          1  ...                                                                                                                                                                                                                                                                                                                                                                                                                                                                                                                                                                                                                                                                                                                                                                                                                                                                                                                                                                                                                                                                                                                                                                                                                                                                                                                                                                                                                                                                                                                                                                                                           Möödunud aasta novembris vabanes Viru vanglast pommimees Märt Ringmaa (82). Tuleb välja, et pärast vabanemist on mehest saanud omamoodi Youtube’i staar.|Märt Ringmaa vahistati 2005. aastal. Talle esitati kahtlustus seitsme aasta jooksul Tallinnas Pae tänaval pommiplahvatuste korraldamises. Lisaks süüdistati Ringmaad pensioniametile valeandmete esitamises, mille alusel maksti talle 2001. aasta maist kuni 2005. aasta novembrini alusetult vanaduspensioni - kokku summas 20 255 krooni.|2009. aasta kevadel tunnistas kohus Märt Ringmaa süüdi lõhkeseadeldiste ebaseaduslikus käitlemises, mõrvakatses ning kelmuses ja mehele mõisteti karistuseks 15 aastat vangistust. Karistuse ära kandnud Märt Ringmaa vabanes vanglast möödunud aasta 11. novembril.\n",
              "1          2  ...                                                                                                                                                                                                                                                                                                                                                                                                                                                                                                                                                                                                                                                                                                                                                                                                                                                                                                                                                                                                                                                                                                                                                                                                                                                                                                                                                                                                                                                                                                                                                                                                                                                                                                                                                                                                                                                                                                                                                                                                                                                                                         Kohtu ees seisis 29-aastane naine, kes aasta tagasi tegi pommiähvardused mitmele kaubanduskeskusele ja lennujaamale. Lisaks pommiähvardustele veel ka vägivallatsemises ja auto ärandamises süüdi mõistetud Kätlin Kalamets ütles Reporterile, et tegi ähvardused endise elukaaslase survel.\n",
              "2          3  ...                                                                                                                                                                                                                                                                                                                                                                                                                                                                                                                                                                                                                                                                                                                                                                                                                                                                                                                                                                                                                                                                                                                                                                                                                                                                                                                                                                                                                                                                                                                                                                                                                                                                                                                                                                                                                                                                                                                                                                                                                                                                                                                                      Eesti ja Soome leppisid kokku, et Tallinn-Helsingi tunneli eestvedajateks saavad riigid ja mitte ärimehed. Mõlema riigi ministrite sõnul on tegemist niivõrd suure transpordiprojektiga, et selle eest tuleb vastutada kõige kõrgemal tasandil.\n",
              "3          4  ...                                                                                                                                                                                                                                                                                                                                                                                                                                                                                                                                                                                                                                                                                                                                                                                                                                                                                                                                                                                                                                                                                                                                                                                                                                                                                                                                                                                                                                                                                                                                                                                                                                                                                                                                                                                                                                                                                                                                                                                                                                                                                                                                                   Gert Koovit on mees, kes viimased 25 aastat aktiivselt spordiga tegelenud. Kulturismi juurest jõudis ta jõutõstmise juurde ja selle juurde on Gert ka jäänud. Peale vaadates ei oskaks aga arvatagi, et suur mehemürakas on vegan.\n",
              "4          5  ...                                                                                                                                                                                                                                                                                                                                                                                                                                                                                                   Oleme Sõbrannas varem päris palju kirjutanud erinevatest taktikatest ja manipulatsioonimustritest, mida nartsissistid kellegagi suhtes olles kasutavad ning millega nad inimesi ümber oma sõrme keeravad.|Üks selliseid äärmiselt manipulatiivseid taktikaid, mida kasutavad suhtes nii nartsissistid kui ka lihtsalt (potentsiaalselt) vägivaldsed partnerid, on armupommitamine, mida on selle toimumise ajal sageli väga raske ära tunda või näha halva asjana.|«Armupommitamise peamised tunnused on liigne tähelepanu pööramine, kiindumus ja imetlus, mille eesmärgiks on panna pommitamise sihtmärgiks olevat inimest tundma end teisest poolest sõltuvana ning justkui ta oleks millekski kohustatud,» võtab teema väga lühidalt kokku terapeut Sasha Jackson. «Sihtmärgi jaoks tundub pommitamine aga väga meeldiv, sest toob endaga kaasa suure koguse heaoluhormoone, dopamiini ning endorfiine. Ta tunneb end erilise, vajaliku, armastatu, väärtusliku ning väärtustatuna - kõik need asjad aga tõstavad ning mõjutavad positiivselt inimese enesekindlust.»|Kas selline käitumine tundub meeldiv? Alguses võib kõik tõesti tunduda lausa perfektne, ehk isegi liiga perfektne. Sa võid arvata, et oled leidnud inimese, kes pole sinust mitte ainult sisse võetud, vaid valab su üle ka tähelepanu, armastuse ning kingitustega. Sa tunned, et viimaks ometi saabub sinu õuele õnn, kinnitused ning validatsioon, mida oled oodanud. Kuid siis, kui oled juba mõnda aega suhtes olnud, võib kooselu muutuda kiiresti millekski, mida sa enam ära ei tunne.|Nüüd ei kõla enam niivõrd meeldivalt, ega ju? Selleks, et aidata sul paremini armupommitamist mõista, otsida varakult ohumärke ning ennast asjade halvenemise eest hoida, võtavad sõna mitmed eksperdid, kes ühtlasi jagavad ka nõuandeid, kuidas sellisest olukorrast välja tulla, kui see juba käes on.\n",
              "...      ...  ...                                                                                                                                                                                                                                                                                                                                                                                                                                                                                                                                                                                                                                                                                                                                                                                                                                                                                                                                                                                                                                                                                                                                                                                                                                                                                                                                                                                                                                                                                                                                                                                                                                                                                                                                                                                                                                                                                                                                                                                                                                                                                                                                                                                                                                                                                                                                                                                  ...\n",
              "69785  69786  ...                                                                                                                                                                                                                                                                                                                                                                                                                                                                                                                                                                                                                                                                                                                                                                                                                                                                                                                                                                                                                                                                                                                                                                                                                                                                                                                                                                                                                                                                                                                                                                                                                                                                                                                                                                                                                                                                                                                                                                                                                                                                                                                                                                                                                                         Advokaat Helen Tomberg selgitab abielukooli kolmandas tunnis, millised varalised ja õiguslikud kohustused kaasnevad abieluga. Vaata videot!|\n",
              "69786  69787  ...                                                                                                                                                                                                                                                                                                                                                                                                                                                                                                                                                                                                                                                                                                                                                                                                                                                                                                                                     Koomik ja räppar Tigran Gevorkjan ühendas uue loo ja muusikavideo tegemiseks jõud Eesti hip-hopi kuldvara Henry «Genka» Kõrvitsaga. Koostöö tegemist nägi Tigran juba 13-aastasena ette ja 14 aastat hiljem läkski «täiesti lappesse»!|Värske lugu kannab pealkirja «Lappes» ja on tõsine hip-hop ja huumor üheaegselt. Tigran on end osava sõnameistri ja räpparina tõestanud ning staažikale «Genkale» sugugi alla ei jäänud. Koostöö tekkeks pani Tigran kujundlikult «seemne mulda» juba lapsena: «Ma olin 13-aastat vana kui kuulasin Genkat ja teist Eesti hip-hoppi kui kunagi poolitsitades ütlesin sõpradele, et tahad näha ma teen kunagi selle vennaga loo. Nüüd, 14 aastat hiljem see juhtus. Olen väga rahul ikka ju!»|Madalal resolutsioonil ja Insta-filtritega elavdatud muusikavideo on Tigrani sõnul taotluslikult segane: «Mõtlesime, et kui lappes, siis las olla see ka lappes.»|Seda miks nii juhtub, et vahel «lappesse» läheb ei tea Tigrani sõnul keegi «See on see vana hea võlu selle asja juures!» |Värske video ja looga on mees ise väga rahul avaldades austust nii Henryle, loo instrumentaali autorile Paul Ojale ja mixmasterile Margo Rindemaale. «Suur kummardus ja respekt neile,» lisab ta.|Mees avaldab lootust, et ka tulevikus sünnivad koostööst mitmed vägevad projektid. Suures elevuses ei tasu aga liigselt asjade käigust ette rutata, vaid esmalt vaadata kuidas praegune värske üllitis mõjub:|\n",
              "69787  69788  ...                                                                                                                                                                                                                                                                                                                                                                                                                                                                                                                                                                                                               Airbus Corporate Jets (ACJ) avaldas hiljuti oma uue laia kerega eralennukite ACJ Harmony disaini, mis pärineb justkui fantaasiafilmist.|Uutes plaanitavates lennukites on salongiruumid kurvilised ja voolujoonelise disainiga. Lennukisse sisenedes ootab aga ees holograafiline gloobus, mis näitab lennutrajektoori, kirjutas Travel+Leisure.| Introducing Harmony - Airbus Corporate Jets new cabin concept - available now on the #ACJ330neo and #ACJ350 XWB corporate jets. Harmony combines the comfort and space of a VIP widebody cabin with the practicality to suit the longest of flights. <U+2708><U+FE0F><U+0001F44C><U+0001F3FB> #airbus #airbuslovers #A330 #instaplane #aviation #aerospace #instaaviation #aviation #corporatejet #bizjet #ACJ #YourWorldAboveTheWorld #EBACE18A post shared by Airbus (@airbus) on May 28, 2018 at 6:01am PDT||Lennukis on ka kosmoselaeva stiilis lounge ala ümmarguste laudadega ning konverentsi/einestamise ruum kaarja kuut inimest mahutava laua, diivani ja VIP tualettruumidega. | Today is #A330 day (3/30) and we found the perfect venue to celebrate: the #ACJ330neo. Spacious, luxurious… what word describes its unique cabin best? <U+2708><U+FE0F><U+2728>#airbus #airbuslovers #plane #instaplane #aviation #instaaviation #vipjet #privatejet #luxuryA post shared by Airbus (@airbus) on Mar 30, 2018 at 5:59am PDT||Lennuki eesotsas on suur magamistuba, mille juurde kuulub vannituba, privaatne kontor ja salongipersonali puhkeala. Tagaosas on aga neli ruumi külalistele, kus igaühes on voodiks lahti käivad diivanid, eraldi tualettruumid ja kontoriala.|ACJ Harmony sisekujundus on planeeritud ACJ330neo privaatlennukitele, mis on kohandatav ka Airbus ACJ350XWB lennukite jaoks. \n",
              "69788  69789  ...                                                                                                                                                                                                                                                                                                                                                                                                                                                                                                                                                                                                                                                                                                                                                                                                                                                                                                                                                                                                                                                                                                                                                                                                                                                                                                                                                                                                                                                                                                                IKEA aasta tagasi müüki paisatud SLADDA-nimelise jalgratta viimnepäev on tulnud - mööbligigant kutsub ohutuse huvides ülemaailmselt tagasi kõik müüdud rattad.|Rootsi mööbligigant on 11 veateate valguses otsustanud tagasi kutsuda kõik SLADDA-nimelised jalgrattad. Üheteistkümnest ettevõttele saabunud kaebusest on siiamaani kaks kulmineerunud väiksemate vigastustega, seisab IKEA veebilehel olevas ametlikus teadaandes. Odavmööblipoe ratta puhul on osutunud problemaatiliseks selle rihmülekandega ketisüsteem, mis kipub sõitmisel purunema.|Mööbligigant nõuab tungivalt, et kõik ratta omanikud selle kasutamise lõpetaksid. Jalgrataste ostusumma hüvitatakse ostjatele täies ulatuses ning tagastamisel eraldi ostukviitungit ei nõuta.  |Mööbligigant vabandab võimalike ebameeldivuste pärast ning tänab kliente kannatlikkuse ja mõistmise eest.\n",
              "69789  69790  ...  Liibanoni sisejulgeolekuteenistus sai kätte sealse suurima narkootikumikoguse, konfiskeerides 15 tonni hašišt ehk kanepivaiku.|Politseihaarang leidis aset 1. juunil, kuid julgeolekuteenistus avalikustas info ja pildid toimunu kohta sel nädalal, teatab newsweek.com.|«Tegemist oli hašišega, mida taheti saata Liibanonist Liibüasse ja Egiptusse, kuid me ei tea, milline oli lõplik sihtriik,» teatas Liibanoni sisejulgeolekuteenistuse juht Imad Osman.|Sisejulgeolekuteenistuse teatel oli konfiskeeritud narkokogus suurim, mis seal kunagi on kätte saadud.|Laohoones olnud hašišt oli nii palju, et sellega kaeti treeningjalgpalliväljak. Pildid valgetes kottides hašišest jalgpalliväljakul jõudsid Twitterisse.|Liibanoni sisejulgeolekuteenistuse teatel õnnestus neil samas lõhkuda rahvusvaheline kokaiinismugeldamise gäng ja arreteerida kolm sellega seotud inimest. Üks arreteeritutest on Vahemere riikides tuntud usujuht.|Liibanonis on hašiše omamine, müümine ja tarbimine keelatud. Samas on neid, kes keelust hoolimata india kanepit kasvatavad ja sellelt vaiku korjavad.|2017. aastal andis BBCle intervjuu Liibanoni tuntuim india kanepi kasvataja Ali Nasri Shamas, kes sõnas, et ta kasvandust valvavad relvastatud mehed.|Vaid mõni nädal pärast ta intervjuu avaldamist, tegid Liibanoni julgeolekujõud ta koju haarangu, konfiskeerides nii narkootikumi kui relvi.|Liibanoni poliitik Walid Jumblatt on aastaid võidelnud hašiše legaliseerimise eest. Tema sõnul on india kanepi kasvatamine aidanud vaeseid farmereid, kes muidu elaks näljas.|ÜRO andmetel toodetakse kanepivaiku kõige enam Marokos, sellele järgneb Afganistan, Liibanon, India ja Pakistan.|Liibanoni majandusekspertide arvates aitaks india kanepi kasvatamine ja hašiše tootmine elavdada Liibanoni majandust ning anda tööd Liibanonis olevale 1,5 miljonile Süüria põgenikule.|Hašiš ehk kanepivaik ehk charas ehk churrus on india kanepi emastaimede õisikutelt korjatav vaigusegu.|Hašiš klassifitseeritakse selles sisalduvate psühhotroopsete kannabinoidide tõttu narkootiliseks aineks. |Narkootiline joove tekib hašišit kas suu kaudu manustades või suitsetades.|Kanepivaiku tuntakse Araabias ja Lähis-Idas hašišina, Ameerikas ja Euroopas marihuaanana ja Põhja-Aafrikas kief'ina. |Hašiši hüüdnimed Eestis on plastiliin, tükk, hash ja maroko.|\n",
              "\n",
              "[69790 rows x 6 columns]"
            ]
          },
          "metadata": {
            "tags": []
          },
          "execution_count": 6
        }
      ]
    },
    {
      "cell_type": "code",
      "metadata": {
        "colab": {
          "base_uri": "https://localhost:8080/"
        },
        "id": "ps_Hf-tqNW9w",
        "outputId": "fe746f6d-6cbe-43d4-ba68-a373df9c1322"
      },
      "source": [
        "postimees = pandas.read_csv(\"postimees_final_new.csv\",sep=\";\",encoding=\"UTF-8\")\n",
        "postimees = postimees[['X','pealkiri','url','rubriik','kuupaev','sisu']]"
      ],
      "execution_count": 7,
      "outputs": [
        {
          "output_type": "stream",
          "text": [
            "/usr/local/lib/python3.7/dist-packages/IPython/core/interactiveshell.py:2718: DtypeWarning: Columns (1,7,8,9,10,11,12,13,14,15,16,17,18,19,20,21,22,23,24,25,26,27,28,29,30,31,32,33,34,35,36,37,38,39,40,41,42,43,44,45,46,47,48,49,50,51,52,53,54,55,56,57,58,59,60,61,62,63,64,65,66,67,68,69,70,71,72,73,74,75,76,77,78,79,80,81,82,83,84,85,86,87,88,89,90,91,92,93,94,95,96,97,98,99,100,101,102,103,104,105,106,107) have mixed types.Specify dtype option on import or set low_memory=False.\n",
            "  interactivity=interactivity, compiler=compiler, result=result)\n"
          ],
          "name": "stderr"
        }
      ]
    },
    {
      "cell_type": "code",
      "metadata": {
        "id": "j307cgNTaxgU"
      },
      "source": [
        "paevaleht = pandas.read_csv(\"paevaleht.csv\",encoding=\"UTF-8\")"
      ],
      "execution_count": 8,
      "outputs": []
    },
    {
      "cell_type": "code",
      "metadata": {
        "id": "b4gUCT0Abbbv"
      },
      "source": [
        "err = pandas.read_csv(\"err.csv\",encoding = \"UTF-8\")"
      ],
      "execution_count": 3,
      "outputs": []
    },
    {
      "cell_type": "code",
      "metadata": {
        "id": "IzZ44aOocVAR"
      },
      "source": [
        "ohtuleht = pandas.read_csv(\"ohtuleht_articles.csv\",encoding = \"UTF-8\")"
      ],
      "execution_count": 4,
      "outputs": []
    },
    {
      "cell_type": "code",
      "metadata": {
        "id": "PLJgvzSfcalS"
      },
      "source": [
        "telegram = pandas.read_csv(\"telegram.csv\",encoding = \"UTF-8\")"
      ],
      "execution_count": 5,
      "outputs": []
    },
    {
      "cell_type": "code",
      "metadata": {
        "id": "jtxBBojWBnc4"
      },
      "source": [
        "uued_uudised = pandas.read_csv(\"uued_uudised.csv\",encoding = \"UTF-8\", usecols=range(4))"
      ],
      "execution_count": 65,
      "outputs": []
    },
    {
      "cell_type": "markdown",
      "metadata": {
        "id": "ND0CrcT6jgWf"
      },
      "source": [
        "### Function to write all words that are identified as person's names to a csv file and also to create a word cloud based on the headlines for each portal"
      ]
    },
    {
      "cell_type": "code",
      "metadata": {
        "id": "wZxuylR8VN9U"
      },
      "source": [
        "def ner_finder_wc_pic(pd_dataset,col_name,file_name):\n",
        "  found_ner = []\n",
        "  long_string_for_wcloud = \"\"\n",
        "  word_level_ner = WordLevelNerTagger()\n",
        "  for header in pd_dataset[col_name]:\n",
        "    if type(header)==str and len(header)>0:\n",
        "      header_text = Text(header)\n",
        "      header_text = header_text.tag_layer(['sentences', 'morph_analysis'])\n",
        "      word_level_ner.tag(header_text)\n",
        "      ner_results = list(zip(header_text.words.text,header_text.wordner.nertag))\n",
        "      for t,ner in ner_results:\n",
        "        long_string_for_wcloud += \"  \" + t\n",
        "        if ner in {'B-PER','I-PER'}:\n",
        "          found_ner.append([t,ner])\n",
        "  wordcloud = WordCloud().generate(long_string_for_wcloud)\n",
        "  wordcloud.to_file(file_name + '.png')\n",
        "  files.download(file_name + \".png\") \n",
        "  with open(file_name + \".txt\", \"w\") as text_file:\n",
        "    text_file.write(long_string_for_wcloud)\n",
        "  files.download(file_name + \".txt\") \n",
        "  df = pandas.DataFrame(found_ner,columns=['name','ner_tag'])\n",
        "  df.to_csv(file_name + \"_ner.csv\",encoding=\"UTF-8\")\n",
        "  files.download(file_name + \"_ner.csv\")"
      ],
      "execution_count": 29,
      "outputs": []
    },
    {
      "cell_type": "code",
      "metadata": {
        "id": "QVIOkKunCeGK"
      },
      "source": [
        "postimees['pealkiri'].dropna(inplace=True)"
      ],
      "execution_count": 20,
      "outputs": []
    },
    {
      "cell_type": "code",
      "metadata": {
        "id": "RqE9HEWmXN6i"
      },
      "source": [
        "#ner_finder_wc_pic(elu24,\"pealkirjade_list\",\"elu24\") #olemas\n",
        "#ner_finder_wc_pic(postimees,\"pealkiri\",\"postimees\") #olemas\n",
        "#ner_finder_wc_pic(telegram,\"pealkiri\",\"telegram\") #olemas\n",
        "#ner_finder_wc_pic(paevaleht,\"pealkiri\",\"paevaleht\") #olemas\n",
        "#ner_finder_wc_pic(err,\"header\",\"err\") #olemas\n",
        "#ner_finder_wc_pic(ohtuleht,\"header\",\"ohtuleht\") #olemas\n",
        "ner_finder_wc_pic(uued_uudised,\"pealkiri\",\"uued_uudised\")"
      ],
      "execution_count": null,
      "outputs": []
    },
    {
      "cell_type": "code",
      "metadata": {
        "colab": {
          "base_uri": "https://localhost:8080/",
          "height": 86
        },
        "id": "41ZjyslGzk_T",
        "outputId": "ad9c036b-abf0-44df-d8ac-0d2b3a2f77fc"
      },
      "source": [
        "paevaleht[\"sisu\"][4]"
      ],
      "execution_count": 15,
      "outputs": [
        {
          "output_type": "execute_result",
          "data": {
            "application/vnd.google.colaboratory.intrinsic+json": {
              "type": "string"
            },
            "text/plain": [
              "'Vahel juhtub, et mõni ootamatu asi (koroonaviirus) toob meelde vähetähtsa ja juba unustatud eluseiga, millest saab olulist ühiskonnanähtust avav illustratsioon.\\r\\n8. veebruaril avati ERM-i vahetuvate näituste saalis muinasjutunäitus „Elas kord…”, mille valmimisse oli mul au anda tagasihoidlik panus. Teel Tartusse pidulikule avamisüritusele sain üllatuse osaliseks: mul paluti sündmust tähistama tulnute ees lühidalt sõna võtta. Näituse teema tuletas meelde lapsepõlve ja kauges minevikus vanematelt kuuldud põnevaid lugusid imekaunitest printsessidest, armunud karjapoistest, verejanulistest nõidadest ja saabastega kassidest. Aga ka natukene lähedasemat aega, kui sukeldusin juba ise ettelugeja rollis olles koos lastega köitvasse muinasjutumaailma.\\r\\nSõnavõtu käigus tabas mind mõte, et erinevalt ruumis viibivatest ja valdavalt nooremapoolsetest inimestest on mul olnud võimalik kuulata muinasjutte suisa riigijuhtide esituses. Kogu nn nõukogude aja jooksul. Mida muud kui muinasjutte kurjadest ja salakavalatest imperialistidest ning sotsialistlikus maailmas peatselt saabuvatest pudrumägedest ja kissellijõgedest Hruštšov, Brežnev ja teised riigijuhid meile tollel ajal ikka rääkisid?\\r\\nAjalookogemus kinnitab, et võimukandjatest (või võimu ihalejatest) muinasjutuvestjad on tavaliselt aktiveerunud kriiside ajal.\\r\\nJah, kunagised muinasjutte pajatanud valitsejad on juba ammu siitilmast lahkunud, kuid kas see tähendab, et lava on jäänud uutel tegijatel hõivamata ja nõudlust muinasjutusarnaste lugude järele enam pole? Paistab, et sugugi mitte ja ka täiskasvanutele (jätame praegu spetsiifiliselt lastele suunatud tekstid kõrvale) mõeldud muinasjutud pole kuhugi kadunud. Pigem vastupidi: arvestades võimul olijate arvu ja vahetustempot on esitajate ja esituste arv aastatega kasvanud.\\r\\nMuinaslugude jutustamine on iseenesest mõnus tegevus, mida paljud meist suudavad raskusteta heldinult meenutada. Oli ju nii: lapsed on juba või lõpuks voodis, nende unisevõitu silmad on tasapisi kustuvast põnevusootusest tulvil ja sina loed. Aina vaiksemalt ja aeglasemalt, võideldes ka ise pealetikkuva unega.\\r\\nAga muinasjutte kuulata? Tegemist on ikkagi nauditavate hetkedega koos muinasjutukangelaste ja õnnelike lõppudega. Nauditavatega hoolimata sellest, et vahepeal, kui paistis, et kurjus saabki oma tahtmise, hakkas natukene õudne.\\r\\nLapsepõlves kogetu mängib olulist rolli selles, milliseks me täiskasvanuna kujuneme. Pole midagi imestada, et olles veetnud elu esimesed aastad muinasjutte kuulates, soovime nende jätkumist ka küpses eas. See seletab, miks populistlikud lood on võitnud nii paljude inimeste südamed – sest need ongi muinasjutud.\\r\\nMiks kogu see jutt? Ajalookogemus paraku kinnitab, et võimukandjatest (või võimu ihalejatest) muinasjutuvestjad on tavaliselt aktiveerunud kriiside ajal. Siis, kui surutises elavad inimesed muutuvad lohutust otsides seda sorti lugudele eriti vastuvõtlikuks. Samuti nagu juhtus kunagi suure osa meie eelkäijatega, kui neile räägiti imperialismi ohust ja peatselt saabuvast tööliste paradiisist või natsionaalsotsialismist ja tuhandeaastasest Reichist. Säilitaksime ehk ka praeguses kriisis igaks juhuks valvsuse ja jätaksime muinasjuttude maailma lapsepõlve.'"
            ]
          },
          "metadata": {
            "tags": []
          },
          "execution_count": 15
        }
      ]
    },
    {
      "cell_type": "code",
      "metadata": {
        "id": "TL5PEXbGE7Gl"
      },
      "source": [
        "elu24_persons = pandas.read_csv(\"elu24_ner.csv\",encoding=\"UTF-8\")"
      ],
      "execution_count": 32,
      "outputs": []
    },
    {
      "cell_type": "code",
      "metadata": {
        "colab": {
          "base_uri": "https://localhost:8080/"
        },
        "id": "rgcsHXxyrgeS",
        "outputId": "51929087-6bb2-4b24-a58c-31d1bf127f26"
      },
      "source": [
        "elu24_persons.head"
      ],
      "execution_count": 33,
      "outputs": [
        {
          "output_type": "execute_result",
          "data": {
            "text/plain": [
              "<bound method NDFrame.head of        Unnamed: 0       name ner_tag\n",
              "0               0     Kätlin   B-PER\n",
              "1               1   Kalamets   I-PER\n",
              "2               2       Gert   B-PER\n",
              "3               3     Koovit   I-PER\n",
              "4               4      Raivo   B-PER\n",
              "...           ...        ...     ...\n",
              "45333       45333      Helen   B-PER\n",
              "45334       45334       Kõpp   I-PER\n",
              "45335       45335     Tigran   B-PER\n",
              "45336       45336  Gevorkjan   I-PER\n",
              "45337       45337    Genkaga   B-PER\n",
              "\n",
              "[45338 rows x 3 columns]>"
            ]
          },
          "metadata": {
            "tags": []
          },
          "execution_count": 33
        }
      ]
    },
    {
      "cell_type": "code",
      "metadata": {
        "id": "l5juSw99ruwe"
      },
      "source": [
        "import csv\n",
        "def find_people_from_tags(portal):\n",
        "  ner_persons = pandas.read_csv(portal + \"_ner.csv\",encoding=\"UTF-8\")\n",
        "  people_dict = {}\n",
        "  i=0\n",
        "  current = \"\"\n",
        "  for i in ner_persons.index:\n",
        "    ner_tag = ner_persons.iloc[i][2]\n",
        "    if ner_tag=='B-PER':\n",
        "      if current!=\"\" :\n",
        "        if current in people_dict.keys():\n",
        "          people_dict[current] += 1\n",
        "        else:\n",
        "          people_dict[current] = 1\n",
        "      current = ner_persons.iloc[i][1]\n",
        "    else:\n",
        "      current += \" \" + ner_persons.iloc[i][1]\n",
        "  with open(portal + '_dict.csv', 'w',encoding=\"utf-8\") as csv_file:  \n",
        "    writer = csv.writer(csv_file)\n",
        "    for key, value in people_dict.items():\n",
        "       writer.writerow([key, value])"
      ],
      "execution_count": 54,
      "outputs": []
    },
    {
      "cell_type": "code",
      "metadata": {
        "id": "0wJCfJwjy7Ps"
      },
      "source": [
        "find_people_from_tags(\"elu24\")"
      ],
      "execution_count": 55,
      "outputs": []
    },
    {
      "cell_type": "code",
      "metadata": {
        "id": "uHCg6d7R0jgP"
      },
      "source": [
        "find_people_from_tags(\"postimees\")"
      ],
      "execution_count": 56,
      "outputs": []
    },
    {
      "cell_type": "code",
      "metadata": {
        "id": "rsZysh0pt4ug"
      },
      "source": [
        "find_people_from_tags(\"paevaleht\")"
      ],
      "execution_count": 57,
      "outputs": []
    },
    {
      "cell_type": "code",
      "metadata": {
        "id": "myppfJi142qC"
      },
      "source": [
        "find_people_from_tags(\"telegram\")"
      ],
      "execution_count": 58,
      "outputs": []
    },
    {
      "cell_type": "code",
      "metadata": {
        "id": "3qnnUw8a44jq"
      },
      "source": [
        "find_people_from_tags(\"ohtuleht\")"
      ],
      "execution_count": 59,
      "outputs": []
    },
    {
      "cell_type": "code",
      "metadata": {
        "id": "je9rANzn4_Mo"
      },
      "source": [
        "find_people_from_tags(\"err\")"
      ],
      "execution_count": 60,
      "outputs": []
    },
    {
      "cell_type": "code",
      "metadata": {
        "id": "xO_GDmgnHTBe"
      },
      "source": [
        "find_people_from_tags(\"uued_uudised\")"
      ],
      "execution_count": null,
      "outputs": []
    },
    {
      "cell_type": "code",
      "metadata": {
        "colab": {
          "base_uri": "https://localhost:8080/"
        },
        "id": "QZ--sQNovYbT",
        "outputId": "ac3e749e-215e-4172-93bc-43cd17ce6c44"
      },
      "source": [
        "for i in elu24_persons.index:\n",
        "  if i==88:\n",
        "    print(2)\n",
        "    break"
      ],
      "execution_count": 50,
      "outputs": [
        {
          "output_type": "stream",
          "text": [
            "2\n"
          ],
          "name": "stdout"
        }
      ]
    }
  ]
}
