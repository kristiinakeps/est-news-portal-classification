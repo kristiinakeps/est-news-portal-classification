{
 "cells": [
  {
   "cell_type": "code",
   "execution_count": 1,
   "metadata": {},
   "outputs": [],
   "source": [
    "import pandas as pd\n",
    "from sklearn.model_selection import train_test_split\n",
    "from sklearn.feature_extraction.text import CountVectorizer\n",
    "import numpy as np\n",
    "\n"
   ]
  },
  {
   "cell_type": "code",
   "execution_count": 2,
   "metadata": {},
   "outputs": [
    {
     "data": {
      "text/html": [
       "<div>\n",
       "<style scoped>\n",
       "    .dataframe tbody tr th:only-of-type {\n",
       "        vertical-align: middle;\n",
       "    }\n",
       "\n",
       "    .dataframe tbody tr th {\n",
       "        vertical-align: top;\n",
       "    }\n",
       "\n",
       "    .dataframe thead th {\n",
       "        text-align: right;\n",
       "    }\n",
       "</style>\n",
       "<table border=\"1\" class=\"dataframe\">\n",
       "  <thead>\n",
       "    <tr style=\"text-align: right;\">\n",
       "      <th></th>\n",
       "      <th>portaal</th>\n",
       "      <th>pealkiri</th>\n",
       "      <th>url</th>\n",
       "      <th>tag</th>\n",
       "      <th>kuupaev</th>\n",
       "      <th>artikkel</th>\n",
       "    </tr>\n",
       "  </thead>\n",
       "  <tbody>\n",
       "    <tr>\n",
       "      <th>0</th>\n",
       "      <td>elu24</td>\n",
       "      <td>82-aastasest Pae tänava pommimehest on saanud ...</td>\n",
       "      <td>https://www.postimees.ee/7233550/82-aastasest-...</td>\n",
       "      <td>Kirev elu</td>\n",
       "      <td>Eile, 19:00</td>\n",
       "      <td>Möödunud aasta novembris vabanes Viru vanglast...</td>\n",
       "    </tr>\n",
       "    <tr>\n",
       "      <th>1</th>\n",
       "      <td>elu24</td>\n",
       "      <td>Reporter: Miks Kätlin Kalamets kaubanduskeskus...</td>\n",
       "      <td>https://www.postimees.ee/7233924/reporter-miks...</td>\n",
       "      <td>Uudised</td>\n",
       "      <td>Eile, 18:36</td>\n",
       "      <td>Kohtu ees seisis 29-aastane naine, kes aasta t...</td>\n",
       "    </tr>\n",
       "    <tr>\n",
       "      <th>2</th>\n",
       "      <td>elu24</td>\n",
       "      <td>Reporter: Tallinn-Helsingi tunneli eestvedajat...</td>\n",
       "      <td>https://www.postimees.ee/7233930/reporter-tall...</td>\n",
       "      <td>Uudised</td>\n",
       "      <td>Eile, 18:36</td>\n",
       "      <td>Eesti ja Soome leppisid kokku, et Tallinn-Hels...</td>\n",
       "    </tr>\n",
       "    <tr>\n",
       "      <th>3</th>\n",
       "      <td>elu24</td>\n",
       "      <td>Reporter: Jõutõstja ja vegan? 15 aastat London...</td>\n",
       "      <td>https://www.postimees.ee/7233943/reporter-jout...</td>\n",
       "      <td>Uudised</td>\n",
       "      <td>Eile, 18:27</td>\n",
       "      <td>Gert Koovit on mees, kes viimased 25 aastat ak...</td>\n",
       "    </tr>\n",
       "    <tr>\n",
       "      <th>4</th>\n",
       "      <td>elu24</td>\n",
       "      <td>Armupommitamine: mis see on ning miks see suht...</td>\n",
       "      <td>https://www.postimees.ee/7233709/armupommitami...</td>\n",
       "      <td>Suhted &amp; seks</td>\n",
       "      <td>Eile, 18:26</td>\n",
       "      <td>Oleme Sõbrannas varem päris palju kirjutanud e...</td>\n",
       "    </tr>\n",
       "  </tbody>\n",
       "</table>\n",
       "</div>"
      ],
      "text/plain": [
       "  portaal                                           pealkiri  \\\n",
       "0   elu24  82-aastasest Pae tänava pommimehest on saanud ...   \n",
       "1   elu24  Reporter: Miks Kätlin Kalamets kaubanduskeskus...   \n",
       "2   elu24  Reporter: Tallinn-Helsingi tunneli eestvedajat...   \n",
       "3   elu24  Reporter: Jõutõstja ja vegan? 15 aastat London...   \n",
       "4   elu24  Armupommitamine: mis see on ning miks see suht...   \n",
       "\n",
       "                                                 url            tag  \\\n",
       "0  https://www.postimees.ee/7233550/82-aastasest-...      Kirev elu   \n",
       "1  https://www.postimees.ee/7233924/reporter-miks...        Uudised   \n",
       "2  https://www.postimees.ee/7233930/reporter-tall...        Uudised   \n",
       "3  https://www.postimees.ee/7233943/reporter-jout...        Uudised   \n",
       "4  https://www.postimees.ee/7233709/armupommitami...  Suhted & seks   \n",
       "\n",
       "        kuupaev                                           artikkel  \n",
       "0  Eile, 19:00   Möödunud aasta novembris vabanes Viru vanglast...  \n",
       "1  Eile, 18:36   Kohtu ees seisis 29-aastane naine, kes aasta t...  \n",
       "2  Eile, 18:36   Eesti ja Soome leppisid kokku, et Tallinn-Hels...  \n",
       "3  Eile, 18:27   Gert Koovit on mees, kes viimased 25 aastat ak...  \n",
       "4  Eile, 18:26   Oleme Sõbrannas varem päris palju kirjutanud e...  "
      ]
     },
     "execution_count": 2,
     "metadata": {},
     "output_type": "execute_result"
    }
   ],
   "source": [
    "elu24 = pd.read_csv(\"C://Users//annal//Documents//NLP//andmed//elu24.csv\",sep=\";\", encoding=\"UTF-8\")\n",
    "elu24 = elu24.drop(['Unnamed: 0','X.1'],axis=1)\n",
    "elu24 = elu24.rename(columns={'X': 'id', 'pealkirjade_list': 'pealkiri', 'urls_list':'url', 'rubriik_list': 'tag', \n",
    "                   'kuupaev_list':'kuupaev', 'sisu':'artikkel'}) \n",
    "elu24['portaal'] = 'elu24'\n",
    "elu24 = elu24.reindex(columns=['id', 'portaal', 'pealkiri', 'url', 'tag', 'kuupaev', 'artikkel'])\n",
    "del elu24['id']\n",
    "elu24.head()\n"
   ]
  },
  {
   "cell_type": "code",
   "execution_count": 3,
   "metadata": {},
   "outputs": [
    {
     "name": "stderr",
     "output_type": "stream",
     "text": [
      "C:\\Users\\annal\\anaconda3\\lib\\site-packages\\IPython\\core\\interactiveshell.py:3063: DtypeWarning: Columns (1,7,8,9,10,11,12,13,14,15,16,17,18,19,20,21,22,23,24,25,26,27,28,29,30,31,32,33,34,35,36,37,38,39,40,41,42,43,44,45,46,47,48,49,50,51,52,53,54,55,56,57,58,59,60,61,62,63,64,65,66,67,68,69,70,71,72,73,74,75,76,77,78,79,80,81,82,83,84,85,86,87,88,89,90,91,92,93,94,95,96,97,98,99,100,101,102,103,104,105,106,107) have mixed types.Specify dtype option on import or set low_memory=False.\n",
      "  interactivity=interactivity, compiler=compiler, result=result)\n"
     ]
    },
    {
     "data": {
      "text/html": [
       "<div>\n",
       "<style scoped>\n",
       "    .dataframe tbody tr th:only-of-type {\n",
       "        vertical-align: middle;\n",
       "    }\n",
       "\n",
       "    .dataframe tbody tr th {\n",
       "        vertical-align: top;\n",
       "    }\n",
       "\n",
       "    .dataframe thead th {\n",
       "        text-align: right;\n",
       "    }\n",
       "</style>\n",
       "<table border=\"1\" class=\"dataframe\">\n",
       "  <thead>\n",
       "    <tr style=\"text-align: right;\">\n",
       "      <th></th>\n",
       "      <th>portaal</th>\n",
       "      <th>pealkiri</th>\n",
       "      <th>url</th>\n",
       "      <th>tag</th>\n",
       "      <th>kuupaev</th>\n",
       "      <th>artikkel</th>\n",
       "    </tr>\n",
       "  </thead>\n",
       "  <tbody>\n",
       "    <tr>\n",
       "      <th>0</th>\n",
       "      <td>postimees</td>\n",
       "      <td>Vabamu järgmine feministlik lugemisring on öko...</td>\n",
       "      <td>https://www.postimees.ee/7234409/vabamu-jargmi...</td>\n",
       "      <td>Uudised</td>\n",
       "      <td>Täna, 09:42</td>\n",
       "      <td>Vabamu korraldab alates märtsist Noorte Vabamu...</td>\n",
       "    </tr>\n",
       "    <tr>\n",
       "      <th>1</th>\n",
       "      <td>postimees</td>\n",
       "      <td>Vene laskesuusatajale mõisteti kaheksa aasta p...</td>\n",
       "      <td>https://www.postimees.ee/7234398/vene-laskesuu...</td>\n",
       "      <td>Laskesuusatamine</td>\n",
       "      <td>Täna, 09:36</td>\n",
       "      <td>Lõuna-Koread esindavale venelasest laskesuusat...</td>\n",
       "    </tr>\n",
       "    <tr>\n",
       "      <th>2</th>\n",
       "      <td>postimees</td>\n",
       "      <td>Elu õppetunnid isalt pojale: raamat annab nõu,...</td>\n",
       "      <td>https://www.postimees.ee/7234382/elu-oppetunni...</td>\n",
       "      <td>Uued raamatud</td>\n",
       "      <td>Täna, 09:24</td>\n",
       "      <td>Million Mindseti kirjastatud raamat «Rikas aed...</td>\n",
       "    </tr>\n",
       "    <tr>\n",
       "      <th>3</th>\n",
       "      <td>postimees</td>\n",
       "      <td>Arco Vara hakkab maksma kvartaalset dividendi</td>\n",
       "      <td>https://www.postimees.ee/7234368/arco-vara-hak...</td>\n",
       "      <td>Investor</td>\n",
       "      <td>Täna, 09:24</td>\n",
       "      <td>Kinnisvarakontsern Arco Vara otsustas kasutuse...</td>\n",
       "    </tr>\n",
       "    <tr>\n",
       "      <th>4</th>\n",
       "      <td>postimees</td>\n",
       "      <td>Otse Postimehest &lt;U+27E9&gt; Kas Soome valitsus v...</td>\n",
       "      <td>https://www.postimees.ee/7234380/kas-soome-val...</td>\n",
       "      <td>TV</td>\n",
       "      <td>Täna, 09:24</td>\n",
       "      <td>Soome valitsus on eelarvestrateegia aruteludeg...</td>\n",
       "    </tr>\n",
       "  </tbody>\n",
       "</table>\n",
       "</div>"
      ],
      "text/plain": [
       "     portaal                                           pealkiri  \\\n",
       "0  postimees  Vabamu järgmine feministlik lugemisring on öko...   \n",
       "1  postimees  Vene laskesuusatajale mõisteti kaheksa aasta p...   \n",
       "2  postimees  Elu õppetunnid isalt pojale: raamat annab nõu,...   \n",
       "3  postimees      Arco Vara hakkab maksma kvartaalset dividendi   \n",
       "4  postimees  Otse Postimehest <U+27E9> Kas Soome valitsus v...   \n",
       "\n",
       "                                                 url               tag  \\\n",
       "0  https://www.postimees.ee/7234409/vabamu-jargmi...           Uudised   \n",
       "1  https://www.postimees.ee/7234398/vene-laskesuu...  Laskesuusatamine   \n",
       "2  https://www.postimees.ee/7234382/elu-oppetunni...     Uued raamatud   \n",
       "3  https://www.postimees.ee/7234368/arco-vara-hak...          Investor   \n",
       "4  https://www.postimees.ee/7234380/kas-soome-val...                TV   \n",
       "\n",
       "        kuupaev                                           artikkel  \n",
       "0  Täna, 09:42   Vabamu korraldab alates märtsist Noorte Vabamu...  \n",
       "1  Täna, 09:36   Lõuna-Koread esindavale venelasest laskesuusat...  \n",
       "2  Täna, 09:24   Million Mindseti kirjastatud raamat «Rikas aed...  \n",
       "3  Täna, 09:24   Kinnisvarakontsern Arco Vara otsustas kasutuse...  \n",
       "4  Täna, 09:24   Soome valitsus on eelarvestrateegia aruteludeg...  "
      ]
     },
     "execution_count": 3,
     "metadata": {},
     "output_type": "execute_result"
    }
   ],
   "source": [
    "postimees = pd.read_csv(\"C://Users//annal//Documents//NLP//andmed//postimees.csv\",sep=\";\",encoding=\"UTF-8\")\n",
    "postimees = postimees[['X','pealkiri','url','rubriik','kuupaev','sisu']]\n",
    "postimees = postimees.rename(columns={'X': 'id', 'rubriik': 'tag', 'sisu':'artikkel'}) \n",
    "postimees['portaal'] = 'postimees'\n",
    "postimees = postimees.reindex(columns=['id', 'portaal', 'pealkiri', 'url', 'tag', 'kuupaev', 'artikkel'])\n",
    "del postimees['id']\n",
    "postimees.head()"
   ]
  },
  {
   "cell_type": "code",
   "execution_count": 4,
   "metadata": {},
   "outputs": [
    {
     "data": {
      "text/html": [
       "<div>\n",
       "<style scoped>\n",
       "    .dataframe tbody tr th:only-of-type {\n",
       "        vertical-align: middle;\n",
       "    }\n",
       "\n",
       "    .dataframe tbody tr th {\n",
       "        vertical-align: top;\n",
       "    }\n",
       "\n",
       "    .dataframe thead th {\n",
       "        text-align: right;\n",
       "    }\n",
       "</style>\n",
       "<table border=\"1\" class=\"dataframe\">\n",
       "  <thead>\n",
       "    <tr style=\"text-align: right;\">\n",
       "      <th></th>\n",
       "      <th>portaal</th>\n",
       "      <th>pealkiri</th>\n",
       "      <th>url</th>\n",
       "      <th>tag</th>\n",
       "      <th>kuupaev</th>\n",
       "      <th>artikkel</th>\n",
       "    </tr>\n",
       "  </thead>\n",
       "  <tbody>\n",
       "    <tr>\n",
       "      <th>0</th>\n",
       "      <td>paevaleht</td>\n",
       "      <td>Ivo Pilving: põhiseadus ei luba viirusetõrjega...</td>\n",
       "      <td>https://epl.delfi.ee/artikkel/89418725/ivo-pil...</td>\n",
       "      <td>arvamus</td>\n",
       "      <td>31.03.2020, 17:00</td>\n",
       "      <td>Selle kõige taustal ei mõjunud kindlasti julgu...</td>\n",
       "    </tr>\n",
       "    <tr>\n",
       "      <th>1</th>\n",
       "      <td>paevaleht</td>\n",
       "      <td>KOROONAKOGEMUS | Viive Näslund: praegu viiks k...</td>\n",
       "      <td>https://epl.delfi.ee/artikkel/89416951/koroona...</td>\n",
       "      <td>arvamus</td>\n",
       "      <td>31.03.2020, 15:00</td>\n",
       "      <td>Selle perioodi jooksul olen pidanud suusareisi...</td>\n",
       "    </tr>\n",
       "    <tr>\n",
       "      <th>2</th>\n",
       "      <td>paevaleht</td>\n",
       "      <td>Reet Marii Rokk: riik ja ettevõtjad, ärge unus...</td>\n",
       "      <td>https://epl.delfi.ee/artikkel/89414427/reet-ma...</td>\n",
       "      <td>arvamus</td>\n",
       "      <td>31.03.2020, 13:01</td>\n",
       "      <td>Tõesti, mitte ainult Eestis, vaid üle terve ma...</td>\n",
       "    </tr>\n",
       "    <tr>\n",
       "      <th>3</th>\n",
       "      <td>paevaleht</td>\n",
       "      <td>Aivar Voog: praegust kriisi eristab eelmisest ...</td>\n",
       "      <td>https://epl.delfi.ee/artikkel/89403089/aivar-v...</td>\n",
       "      <td>arvamus</td>\n",
       "      <td>31.03.2020, 00:15</td>\n",
       "      <td>Koroonapandeemia tõttu vallandunud ostupaanika...</td>\n",
       "    </tr>\n",
       "    <tr>\n",
       "      <th>4</th>\n",
       "      <td>paevaleht</td>\n",
       "      <td>David Vseviov: võimuritest muinasjutuvestjad e...</td>\n",
       "      <td>https://epl.delfi.ee/artikkel/89402583/david-v...</td>\n",
       "      <td>arvamus</td>\n",
       "      <td>31.03.2020, 00:10</td>\n",
       "      <td>Vahel juhtub, et mõni ootamatu asi (koroonavii...</td>\n",
       "    </tr>\n",
       "  </tbody>\n",
       "</table>\n",
       "</div>"
      ],
      "text/plain": [
       "     portaal                                           pealkiri  \\\n",
       "0  paevaleht  Ivo Pilving: põhiseadus ei luba viirusetõrjega...   \n",
       "1  paevaleht  KOROONAKOGEMUS | Viive Näslund: praegu viiks k...   \n",
       "2  paevaleht  Reet Marii Rokk: riik ja ettevõtjad, ärge unus...   \n",
       "3  paevaleht  Aivar Voog: praegust kriisi eristab eelmisest ...   \n",
       "4  paevaleht  David Vseviov: võimuritest muinasjutuvestjad e...   \n",
       "\n",
       "                                                 url      tag  \\\n",
       "0  https://epl.delfi.ee/artikkel/89418725/ivo-pil...  arvamus   \n",
       "1  https://epl.delfi.ee/artikkel/89416951/koroona...  arvamus   \n",
       "2  https://epl.delfi.ee/artikkel/89414427/reet-ma...  arvamus   \n",
       "3  https://epl.delfi.ee/artikkel/89403089/aivar-v...  arvamus   \n",
       "4  https://epl.delfi.ee/artikkel/89402583/david-v...  arvamus   \n",
       "\n",
       "             kuupaev                                           artikkel  \n",
       "0  31.03.2020, 17:00  Selle kõige taustal ei mõjunud kindlasti julgu...  \n",
       "1  31.03.2020, 15:00  Selle perioodi jooksul olen pidanud suusareisi...  \n",
       "2  31.03.2020, 13:01  Tõesti, mitte ainult Eestis, vaid üle terve ma...  \n",
       "3  31.03.2020, 00:15  Koroonapandeemia tõttu vallandunud ostupaanika...  \n",
       "4  31.03.2020, 00:10  Vahel juhtub, et mõni ootamatu asi (koroonavii...  "
      ]
     },
     "execution_count": 4,
     "metadata": {},
     "output_type": "execute_result"
    }
   ],
   "source": [
    "paevaleht = pd.read_csv(\"C://Users//annal//Documents//NLP//andmed//paevaleht.csv\",encoding=\"UTF-8\")\n",
    "paevaleht = paevaleht.rename(columns={'kpv': 'kuupaev', 'teema': 'tag', 'link':'url', 'sisu': 'artikkel'}) \n",
    "paevaleht['portaal'] = 'paevaleht'\n",
    "paevaleht = paevaleht.reindex(columns=['portaal', 'pealkiri', 'url', 'tag', 'kuupaev', 'artikkel'])\n",
    "paevaleht.head()"
   ]
  },
  {
   "cell_type": "code",
   "execution_count": 5,
   "metadata": {},
   "outputs": [
    {
     "data": {
      "text/html": [
       "<div>\n",
       "<style scoped>\n",
       "    .dataframe tbody tr th:only-of-type {\n",
       "        vertical-align: middle;\n",
       "    }\n",
       "\n",
       "    .dataframe tbody tr th {\n",
       "        vertical-align: top;\n",
       "    }\n",
       "\n",
       "    .dataframe thead th {\n",
       "        text-align: right;\n",
       "    }\n",
       "</style>\n",
       "<table border=\"1\" class=\"dataframe\">\n",
       "  <thead>\n",
       "    <tr style=\"text-align: right;\">\n",
       "      <th></th>\n",
       "      <th>portaal</th>\n",
       "      <th>pealkiri</th>\n",
       "      <th>url</th>\n",
       "      <th>tag</th>\n",
       "      <th>kuupaev</th>\n",
       "      <th>artikkel</th>\n",
       "    </tr>\n",
       "  </thead>\n",
       "  <tbody>\n",
       "    <tr>\n",
       "      <th>0</th>\n",
       "      <td>err</td>\n",
       "      <td>Koolinoored näitavad ERM-is kiirmoe mõju keskk...</td>\n",
       "      <td>https://kultuur.err.ee/1608202522/koolinoored-...</td>\n",
       "      <td>Muuseumid</td>\n",
       "      <td>05.05.2021 21:36</td>\n",
       "      <td>ERM-i külastaja läbib kogu T-särgi elutee. Sel...</td>\n",
       "    </tr>\n",
       "    <tr>\n",
       "      <th>1</th>\n",
       "      <td>err</td>\n",
       "      <td>Inglismaa, Šoti ja Walesi kohalikud valimised ...</td>\n",
       "      <td>https://www.err.ee/1608202519/inglismaa-soti-j...</td>\n",
       "      <td>Välismaa</td>\n",
       "      <td>05.05.2021 21:34</td>\n",
       "      <td>Ligi 48 miljonit inimest otsustavad, kes võiks...</td>\n",
       "    </tr>\n",
       "    <tr>\n",
       "      <th>2</th>\n",
       "      <td>err</td>\n",
       "      <td>Omavalitsused tõstavad munitsipaalkorterite üüri</td>\n",
       "      <td>https://www.err.ee/1608202507/omavalitsused-to...</td>\n",
       "      <td>Eesti</td>\n",
       "      <td>05.05.2021 21:25</td>\n",
       "      <td>Kuna munitsipaalkorterite üür on iga omavalits...</td>\n",
       "    </tr>\n",
       "    <tr>\n",
       "      <th>3</th>\n",
       "      <td>err</td>\n",
       "      <td>Mai keskel võtavad vaktsineerimiskeskused ja h...</td>\n",
       "      <td>https://www.err.ee/1608202513/mai-keskel-votav...</td>\n",
       "      <td>Eesti</td>\n",
       "      <td>05.05.2021 21:22</td>\n",
       "      <td>Perearstid said haigekassalt kirja, et alates ...</td>\n",
       "    </tr>\n",
       "    <tr>\n",
       "      <th>4</th>\n",
       "      <td>err</td>\n",
       "      <td>Levadia alistas kindlalt Tuleviku, Trans võiti...</td>\n",
       "      <td>https://sport.err.ee/1608202510/levadia-alista...</td>\n",
       "      <td>Jalgpall</td>\n",
       "      <td>05.05.2021 21:16</td>\n",
       "      <td>Levadia keskkaitsja Volodymyr Baienko saadeti ...</td>\n",
       "    </tr>\n",
       "  </tbody>\n",
       "</table>\n",
       "</div>"
      ],
      "text/plain": [
       "  portaal                                           pealkiri  \\\n",
       "0     err  Koolinoored näitavad ERM-is kiirmoe mõju keskk...   \n",
       "1     err  Inglismaa, Šoti ja Walesi kohalikud valimised ...   \n",
       "2     err   Omavalitsused tõstavad munitsipaalkorterite üüri   \n",
       "3     err  Mai keskel võtavad vaktsineerimiskeskused ja h...   \n",
       "4     err  Levadia alistas kindlalt Tuleviku, Trans võiti...   \n",
       "\n",
       "                                                 url        tag  \\\n",
       "0  https://kultuur.err.ee/1608202522/koolinoored-...  Muuseumid   \n",
       "1  https://www.err.ee/1608202519/inglismaa-soti-j...   Välismaa   \n",
       "2  https://www.err.ee/1608202507/omavalitsused-to...      Eesti   \n",
       "3  https://www.err.ee/1608202513/mai-keskel-votav...      Eesti   \n",
       "4  https://sport.err.ee/1608202510/levadia-alista...   Jalgpall   \n",
       "\n",
       "            kuupaev                                           artikkel  \n",
       "0  05.05.2021 21:36  ERM-i külastaja läbib kogu T-särgi elutee. Sel...  \n",
       "1  05.05.2021 21:34  Ligi 48 miljonit inimest otsustavad, kes võiks...  \n",
       "2  05.05.2021 21:25  Kuna munitsipaalkorterite üür on iga omavalits...  \n",
       "3  05.05.2021 21:22  Perearstid said haigekassalt kirja, et alates ...  \n",
       "4  05.05.2021 21:16  Levadia keskkaitsja Volodymyr Baienko saadeti ...  "
      ]
     },
     "execution_count": 5,
     "metadata": {},
     "output_type": "execute_result"
    }
   ],
   "source": [
    "err = pd.read_csv(\"C://Users//annal//Documents//NLP//andmed//err.csv\",encoding = \"UTF-8\")\n",
    "err = err.rename(columns={'portal_name': 'portaal', 'date': 'kuupaev', 'link':'url', 'header':'pealkiri', 'article': 'artikkel'}) \n",
    "err = err.reindex(columns=['portaal', 'pealkiri', 'url', 'tag', 'kuupaev', 'artikkel'])\n",
    "err.head()"
   ]
  },
  {
   "cell_type": "code",
   "execution_count": 6,
   "metadata": {},
   "outputs": [
    {
     "data": {
      "text/html": [
       "<div>\n",
       "<style scoped>\n",
       "    .dataframe tbody tr th:only-of-type {\n",
       "        vertical-align: middle;\n",
       "    }\n",
       "\n",
       "    .dataframe tbody tr th {\n",
       "        vertical-align: top;\n",
       "    }\n",
       "\n",
       "    .dataframe thead th {\n",
       "        text-align: right;\n",
       "    }\n",
       "</style>\n",
       "<table border=\"1\" class=\"dataframe\">\n",
       "  <thead>\n",
       "    <tr style=\"text-align: right;\">\n",
       "      <th></th>\n",
       "      <th>portaal</th>\n",
       "      <th>pealkiri</th>\n",
       "      <th>url</th>\n",
       "      <th>tag</th>\n",
       "      <th>kuupaev</th>\n",
       "      <th>artikkel</th>\n",
       "    </tr>\n",
       "  </thead>\n",
       "  <tbody>\n",
       "    <tr>\n",
       "      <th>0</th>\n",
       "      <td>ohtuleht</td>\n",
       "      <td>Pühapäeval kimbutab hoovihm (1)</td>\n",
       "      <td>https://www.ohtuleht.ee/1034587/puhapaeval-kim...</td>\n",
       "      <td>NaN</td>\n",
       "      <td>täna 19:27</td>\n",
       "      <td>Vihmane ilm.Sel pühepäeval on oodata küll kuni...</td>\n",
       "    </tr>\n",
       "    <tr>\n",
       "      <th>1</th>\n",
       "      <td>ohtuleht</td>\n",
       "      <td>GALERII | Tammsaare parki kogunesid Palestiina...</td>\n",
       "      <td>https://www.ohtuleht.ee/1034577/galerii-tammsa...</td>\n",
       "      <td>NaN</td>\n",
       "      <td>täna 16:01</td>\n",
       "      <td>Tallinnas kogunesid täna pärastlõunal Tammsaar...</td>\n",
       "    </tr>\n",
       "    <tr>\n",
       "      <th>2</th>\n",
       "      <td>ohtuleht</td>\n",
       "      <td>Rüütelmaa orkestrite koondamisest: kui kaotata...</td>\n",
       "      <td>https://www.ohtuleht.ee/1034583/ruutelmaa-orke...</td>\n",
       "      <td>NaN</td>\n",
       "      <td>täna 15:16</td>\n",
       "      <td>KaitseväeorkesterKlassikaraadio saade „Helikaj...</td>\n",
       "    </tr>\n",
       "    <tr>\n",
       "      <th>3</th>\n",
       "      <td>ohtuleht</td>\n",
       "      <td>Eesti on viimase 20 aastaga tõusnud Euroopa Li...</td>\n",
       "      <td>https://www.ohtuleht.ee/1034574/eesti-on-viima...</td>\n",
       "      <td>NaN</td>\n",
       "      <td>täna 12:01</td>\n",
       "      <td>Viimase 20 aastaga on isikliku sõiduauto kasut...</td>\n",
       "    </tr>\n",
       "    <tr>\n",
       "      <th>4</th>\n",
       "      <td>ohtuleht</td>\n",
       "      <td>Politsei otsib Harjumaal kadunud 84aastast Ger...</td>\n",
       "      <td>https://www.ohtuleht.ee/1034573/politsei-otsib...</td>\n",
       "      <td>NaN</td>\n",
       "      <td>täna 11:46</td>\n",
       "      <td>Politsei palub kaasabi selgitamaks Haaberstis ...</td>\n",
       "    </tr>\n",
       "  </tbody>\n",
       "</table>\n",
       "</div>"
      ],
      "text/plain": [
       "    portaal                                           pealkiri  \\\n",
       "0  ohtuleht                    Pühapäeval kimbutab hoovihm (1)   \n",
       "1  ohtuleht  GALERII | Tammsaare parki kogunesid Palestiina...   \n",
       "2  ohtuleht  Rüütelmaa orkestrite koondamisest: kui kaotata...   \n",
       "3  ohtuleht  Eesti on viimase 20 aastaga tõusnud Euroopa Li...   \n",
       "4  ohtuleht  Politsei otsib Harjumaal kadunud 84aastast Ger...   \n",
       "\n",
       "                                                 url  tag       kuupaev  \\\n",
       "0  https://www.ohtuleht.ee/1034587/puhapaeval-kim...  NaN    täna 19:27   \n",
       "1  https://www.ohtuleht.ee/1034577/galerii-tammsa...  NaN    täna 16:01   \n",
       "2  https://www.ohtuleht.ee/1034583/ruutelmaa-orke...  NaN    täna 15:16   \n",
       "3  https://www.ohtuleht.ee/1034574/eesti-on-viima...  NaN    täna 12:01   \n",
       "4  https://www.ohtuleht.ee/1034573/politsei-otsib...  NaN    täna 11:46   \n",
       "\n",
       "                                            artikkel  \n",
       "0  Vihmane ilm.Sel pühepäeval on oodata küll kuni...  \n",
       "1  Tallinnas kogunesid täna pärastlõunal Tammsaar...  \n",
       "2  KaitseväeorkesterKlassikaraadio saade „Helikaj...  \n",
       "3  Viimase 20 aastaga on isikliku sõiduauto kasut...  \n",
       "4  Politsei palub kaasabi selgitamaks Haaberstis ...  "
      ]
     },
     "execution_count": 6,
     "metadata": {},
     "output_type": "execute_result"
    }
   ],
   "source": [
    "ohtuleht = pd.read_csv(\"C://Users//annal//Documents//NLP//andmed//ohtuleht.csv\", encoding = \"UTF-8\")\n",
    "ohtuleht = ohtuleht.rename(columns={'portal_name': 'portaal', 'date': 'kuupaev', 'link':'url', 'header':'pealkiri', 'article': 'artikkel'}) \n",
    "ohtuleht = ohtuleht.reindex(columns=['portaal', 'pealkiri', 'url', 'tag', 'kuupaev', 'artikkel'])\n",
    "ohtuleht.head()"
   ]
  },
  {
   "cell_type": "code",
   "execution_count": 7,
   "metadata": {
    "scrolled": true
   },
   "outputs": [
    {
     "data": {
      "text/plain": [
       "9387"
      ]
     },
     "execution_count": 7,
     "metadata": {},
     "output_type": "execute_result"
    }
   ],
   "source": [
    "telegram = pd.read_csv(\"C://Users//annal//Documents//NLP//andmed//telegram.csv\",encoding = \"UTF-8\")\n",
    "telegram = telegram.rename(columns={'kpv': 'kuupaev', 'teema': 'tag','link':'url', 'sisu': 'artikkel'}) \n",
    "telegram['portaal'] = 'telegram'\n",
    "telegram = telegram.reindex(columns=['portaal', 'pealkiri', 'url', 'tag', 'kuupaev', 'artikkel'])\n",
    "telegram.head()\n",
    "len(telegram)"
   ]
  },
  {
   "cell_type": "code",
   "execution_count": 8,
   "metadata": {},
   "outputs": [
    {
     "data": {
      "text/plain": [
       "9387"
      ]
     },
     "execution_count": 8,
     "metadata": {},
     "output_type": "execute_result"
    }
   ],
   "source": [
    "uued_uudised = pd.read_csv(\"C://Users//annal//Documents//NLP//andmed//telegram.csv\",encoding = \"UTF-8\")\n",
    "uued_uudised = uued_uudised.rename(columns={'kpv': 'kuupaev', 'teema': 'tag','link':'url', 'sisu': 'artikkel'}) \n",
    "uued_uudised['portaal'] = 'uued_uudised'\n",
    "uued_uudised = uued_uudised.reindex(columns=['portaal', 'pealkiri', 'url', 'tag', 'kuupaev', 'artikkel'])\n",
    "uued_uudised.head()\n",
    "len(uued_uudised)"
   ]
  },
  {
   "cell_type": "code",
   "execution_count": 9,
   "metadata": {},
   "outputs": [],
   "source": [
    "uudised = pd.concat([elu24, postimees, paevaleht, err, ohtuleht, telegram, uued_uudised])"
   ]
  },
  {
   "cell_type": "code",
   "execution_count": 10,
   "metadata": {},
   "outputs": [
    {
     "data": {
      "text/plain": [
       "235210"
      ]
     },
     "execution_count": 10,
     "metadata": {},
     "output_type": "execute_result"
    }
   ],
   "source": [
    "len(uudised)"
   ]
  },
  {
   "cell_type": "code",
   "execution_count": 34,
   "metadata": {},
   "outputs": [],
   "source": [
    "np.random.seed(10)\n",
    "\n",
    "elu24_vaike = elu24.sample(n=1000)\n",
    "postimees_vaike = postimees.sample(n=1000)\n",
    "paevaleht_vaike = paevaleht.sample(n=1000)\n",
    "err_vaike = err.sample(n=1000)\n",
    "telegram_vaike = telegram.sample(n=1000)\n",
    "uued_uudised_vaike=uued_uudised.sample(n=1000)\n",
    "uudised_vaike = pd.concat([elu24_vaike, postimees_vaike, paevaleht_vaike, err_vaike, \n",
    "                           telegram_vaike, uued_uudised_vaike])"
   ]
  },
  {
   "cell_type": "code",
   "execution_count": 35,
   "metadata": {},
   "outputs": [
    {
     "data": {
      "text/html": [
       "<div>\n",
       "<style scoped>\n",
       "    .dataframe tbody tr th:only-of-type {\n",
       "        vertical-align: middle;\n",
       "    }\n",
       "\n",
       "    .dataframe tbody tr th {\n",
       "        vertical-align: top;\n",
       "    }\n",
       "\n",
       "    .dataframe thead th {\n",
       "        text-align: right;\n",
       "    }\n",
       "</style>\n",
       "<table border=\"1\" class=\"dataframe\">\n",
       "  <thead>\n",
       "    <tr style=\"text-align: right;\">\n",
       "      <th></th>\n",
       "      <th>portaal</th>\n",
       "      <th>pealkiri</th>\n",
       "      <th>url</th>\n",
       "      <th>tag</th>\n",
       "      <th>kuupaev</th>\n",
       "      <th>artikkel</th>\n",
       "    </tr>\n",
       "  </thead>\n",
       "  <tbody>\n",
       "    <tr>\n",
       "      <th>48246</th>\n",
       "      <td>elu24</td>\n",
       "      <td>Reporter: 170 meetrit ja 920 trepiastet! Telet...</td>\n",
       "      <td>https://www.postimees.ee/6563758/reporter-170-...</td>\n",
       "      <td>Reporter</td>\n",
       "      <td>7.04.2019, 17:01</td>\n",
       "      <td>Aasta jooksul toimub maailmas 24 võistlust, ku...</td>\n",
       "    </tr>\n",
       "    <tr>\n",
       "      <th>35659</th>\n",
       "      <td>elu24</td>\n",
       "      <td>3 olulist kohta kodus, millele enne müüki põhj...</td>\n",
       "      <td>https://www.postimees.ee/6813593/3-olulist-koh...</td>\n",
       "      <td>Kodustiil</td>\n",
       "      <td>30.10.2019, 10:38</td>\n",
       "      <td>Kui kavatsete oma kodu müüki panna ning kutsut...</td>\n",
       "    </tr>\n",
       "    <tr>\n",
       "      <th>14768</th>\n",
       "      <td>elu24</td>\n",
       "      <td>Kolm linna, kolm proffi: Eesti tippkokad testi...</td>\n",
       "      <td>https://www.postimees.ee/7057670/kolm-linna-ko...</td>\n",
       "      <td>Kodustiil</td>\n",
       "      <td>9.09.2020, 13:37</td>\n",
       "      <td>Eesti esimesel suurel kööginädalal panevad tip...</td>\n",
       "    </tr>\n",
       "    <tr>\n",
       "      <th>30643</th>\n",
       "      <td>elu24</td>\n",
       "      <td>INSTASTAARI PIHTIMUS &lt;U+27E9&gt; Üleöö kuulsaks s...</td>\n",
       "      <td>https://www.postimees.ee/6874635/uleoo-kuulsak...</td>\n",
       "      <td>Elu24</td>\n",
       "      <td>16.01.2020, 22:32</td>\n",
       "      <td>28-aastane sotsiaalmeedia staar Samantha Marie...</td>\n",
       "    </tr>\n",
       "    <tr>\n",
       "      <th>38541</th>\n",
       "      <td>elu24</td>\n",
       "      <td>Tõsielu Downton Abbeys on peretüli, milles kas...</td>\n",
       "      <td>https://www.postimees.ee/6779844/tosielu-downt...</td>\n",
       "      <td>Kirev elu</td>\n",
       "      <td>17.09.2019, 09:38</td>\n",
       "      <td>Menusarjas «Downton Abbey» ja hiljuti kinno jõ...</td>\n",
       "    </tr>\n",
       "  </tbody>\n",
       "</table>\n",
       "</div>"
      ],
      "text/plain": [
       "      portaal                                           pealkiri  \\\n",
       "48246   elu24  Reporter: 170 meetrit ja 920 trepiastet! Telet...   \n",
       "35659   elu24  3 olulist kohta kodus, millele enne müüki põhj...   \n",
       "14768   elu24  Kolm linna, kolm proffi: Eesti tippkokad testi...   \n",
       "30643   elu24  INSTASTAARI PIHTIMUS <U+27E9> Üleöö kuulsaks s...   \n",
       "38541   elu24  Tõsielu Downton Abbeys on peretüli, milles kas...   \n",
       "\n",
       "                                                     url        tag  \\\n",
       "48246  https://www.postimees.ee/6563758/reporter-170-...   Reporter   \n",
       "35659  https://www.postimees.ee/6813593/3-olulist-koh...  Kodustiil   \n",
       "14768  https://www.postimees.ee/7057670/kolm-linna-ko...  Kodustiil   \n",
       "30643  https://www.postimees.ee/6874635/uleoo-kuulsak...      Elu24   \n",
       "38541  https://www.postimees.ee/6779844/tosielu-downt...  Kirev elu   \n",
       "\n",
       "                  kuupaev                                           artikkel  \n",
       "48246   7.04.2019, 17:01   Aasta jooksul toimub maailmas 24 võistlust, ku...  \n",
       "35659  30.10.2019, 10:38   Kui kavatsete oma kodu müüki panna ning kutsut...  \n",
       "14768   9.09.2020, 13:37   Eesti esimesel suurel kööginädalal panevad tip...  \n",
       "30643  16.01.2020, 22:32   28-aastane sotsiaalmeedia staar Samantha Marie...  \n",
       "38541  17.09.2019, 09:38   Menusarjas «Downton Abbey» ja hiljuti kinno jõ...  "
      ]
     },
     "execution_count": 35,
     "metadata": {},
     "output_type": "execute_result"
    }
   ],
   "source": [
    "uudised_vaike.head()"
   ]
  },
  {
   "cell_type": "code",
   "execution_count": 36,
   "metadata": {},
   "outputs": [],
   "source": [
    "### Naive Bayes"
   ]
  },
  {
   "cell_type": "code",
   "execution_count": 37,
   "metadata": {},
   "outputs": [
    {
     "data": {
      "text/plain": [
       "paevaleht       1000\n",
       "err             1000\n",
       "uued_uudised    1000\n",
       "telegram        1000\n",
       "elu24           1000\n",
       "postimees       1000\n",
       "Name: portaal, dtype: int64"
      ]
     },
     "execution_count": 37,
     "metadata": {},
     "output_type": "execute_result"
    }
   ],
   "source": [
    "uudised_vaike.portaal.value_counts()\n"
   ]
  },
  {
   "cell_type": "code",
   "execution_count": 38,
   "metadata": {},
   "outputs": [
    {
     "data": {
      "text/html": [
       "<div>\n",
       "<style scoped>\n",
       "    .dataframe tbody tr th:only-of-type {\n",
       "        vertical-align: middle;\n",
       "    }\n",
       "\n",
       "    .dataframe tbody tr th {\n",
       "        vertical-align: top;\n",
       "    }\n",
       "\n",
       "    .dataframe thead th {\n",
       "        text-align: right;\n",
       "    }\n",
       "</style>\n",
       "<table border=\"1\" class=\"dataframe\">\n",
       "  <thead>\n",
       "    <tr style=\"text-align: right;\">\n",
       "      <th></th>\n",
       "      <th>portaal</th>\n",
       "      <th>pealkiri</th>\n",
       "      <th>url</th>\n",
       "      <th>tag</th>\n",
       "      <th>kuupaev</th>\n",
       "      <th>artikkel</th>\n",
       "    </tr>\n",
       "  </thead>\n",
       "  <tbody>\n",
       "    <tr>\n",
       "      <th>48246</th>\n",
       "      <td>1</td>\n",
       "      <td>Reporter: 170 meetrit ja 920 trepiastet! Telet...</td>\n",
       "      <td>https://www.postimees.ee/6563758/reporter-170-...</td>\n",
       "      <td>Reporter</td>\n",
       "      <td>7.04.2019, 17:01</td>\n",
       "      <td>Aasta jooksul toimub maailmas 24 võistlust, ku...</td>\n",
       "    </tr>\n",
       "    <tr>\n",
       "      <th>35659</th>\n",
       "      <td>1</td>\n",
       "      <td>3 olulist kohta kodus, millele enne müüki põhj...</td>\n",
       "      <td>https://www.postimees.ee/6813593/3-olulist-koh...</td>\n",
       "      <td>Kodustiil</td>\n",
       "      <td>30.10.2019, 10:38</td>\n",
       "      <td>Kui kavatsete oma kodu müüki panna ning kutsut...</td>\n",
       "    </tr>\n",
       "    <tr>\n",
       "      <th>14768</th>\n",
       "      <td>1</td>\n",
       "      <td>Kolm linna, kolm proffi: Eesti tippkokad testi...</td>\n",
       "      <td>https://www.postimees.ee/7057670/kolm-linna-ko...</td>\n",
       "      <td>Kodustiil</td>\n",
       "      <td>9.09.2020, 13:37</td>\n",
       "      <td>Eesti esimesel suurel kööginädalal panevad tip...</td>\n",
       "    </tr>\n",
       "    <tr>\n",
       "      <th>30643</th>\n",
       "      <td>1</td>\n",
       "      <td>INSTASTAARI PIHTIMUS &lt;U+27E9&gt; Üleöö kuulsaks s...</td>\n",
       "      <td>https://www.postimees.ee/6874635/uleoo-kuulsak...</td>\n",
       "      <td>Elu24</td>\n",
       "      <td>16.01.2020, 22:32</td>\n",
       "      <td>28-aastane sotsiaalmeedia staar Samantha Marie...</td>\n",
       "    </tr>\n",
       "    <tr>\n",
       "      <th>38541</th>\n",
       "      <td>1</td>\n",
       "      <td>Tõsielu Downton Abbeys on peretüli, milles kas...</td>\n",
       "      <td>https://www.postimees.ee/6779844/tosielu-downt...</td>\n",
       "      <td>Kirev elu</td>\n",
       "      <td>17.09.2019, 09:38</td>\n",
       "      <td>Menusarjas «Downton Abbey» ja hiljuti kinno jõ...</td>\n",
       "    </tr>\n",
       "  </tbody>\n",
       "</table>\n",
       "</div>"
      ],
      "text/plain": [
       "       portaal                                           pealkiri  \\\n",
       "48246        1  Reporter: 170 meetrit ja 920 trepiastet! Telet...   \n",
       "35659        1  3 olulist kohta kodus, millele enne müüki põhj...   \n",
       "14768        1  Kolm linna, kolm proffi: Eesti tippkokad testi...   \n",
       "30643        1  INSTASTAARI PIHTIMUS <U+27E9> Üleöö kuulsaks s...   \n",
       "38541        1  Tõsielu Downton Abbeys on peretüli, milles kas...   \n",
       "\n",
       "                                                     url        tag  \\\n",
       "48246  https://www.postimees.ee/6563758/reporter-170-...   Reporter   \n",
       "35659  https://www.postimees.ee/6813593/3-olulist-koh...  Kodustiil   \n",
       "14768  https://www.postimees.ee/7057670/kolm-linna-ko...  Kodustiil   \n",
       "30643  https://www.postimees.ee/6874635/uleoo-kuulsak...      Elu24   \n",
       "38541  https://www.postimees.ee/6779844/tosielu-downt...  Kirev elu   \n",
       "\n",
       "                  kuupaev                                           artikkel  \n",
       "48246   7.04.2019, 17:01   Aasta jooksul toimub maailmas 24 võistlust, ku...  \n",
       "35659  30.10.2019, 10:38   Kui kavatsete oma kodu müüki panna ning kutsut...  \n",
       "14768   9.09.2020, 13:37   Eesti esimesel suurel kööginädalal panevad tip...  \n",
       "30643  16.01.2020, 22:32   28-aastane sotsiaalmeedia staar Samantha Marie...  \n",
       "38541  17.09.2019, 09:38   Menusarjas «Downton Abbey» ja hiljuti kinno jõ...  "
      ]
     },
     "execution_count": 38,
     "metadata": {},
     "output_type": "execute_result"
    }
   ],
   "source": [
    "# convert label to a numeric variable\n",
    "\n",
    "df_uudised = uudised_vaike.copy()\n",
    "df_uudised['portaal'] = df_uudised.portaal.map({'postimees':0, 'elu24':1, 'err':2, 'paevaleht':3,\n",
    "                                                'telegram':4, 'uued_uudised':5, 'ohtuleht':6})\n",
    "df_uudised.head()"
   ]
  },
  {
   "cell_type": "code",
   "execution_count": 39,
   "metadata": {},
   "outputs": [],
   "source": [
    "# define X and y\n",
    "X = df_uudised.pealkiri\n",
    "y = df_uudised.portaal"
   ]
  },
  {
   "cell_type": "code",
   "execution_count": 40,
   "metadata": {},
   "outputs": [],
   "source": [
    "# split into training and testing sets\n",
    "#X_train, X_test, y_train, y_test = train_test_split(X, y, random_state=1)\n",
    "#print(X_train.shape)\n",
    "#print(X_test.shape)"
   ]
  },
  {
   "cell_type": "code",
   "execution_count": 41,
   "metadata": {},
   "outputs": [
    {
     "name": "stdout",
     "output_type": "stream",
     "text": [
      "(4800,)\n",
      "(1200,)\n"
     ]
    }
   ],
   "source": [
    "X_train, X_test, y_train, y_test = train_test_split(X, y, test_size=0.2, stratify=y)\n",
    "print(X_train.shape)\n",
    "print(X_test.shape)"
   ]
  },
  {
   "cell_type": "code",
   "execution_count": 42,
   "metadata": {},
   "outputs": [
    {
     "data": {
      "text/plain": [
       "0    800\n",
       "4    800\n",
       "1    800\n",
       "5    800\n",
       "2    800\n",
       "3    800\n",
       "Name: portaal, dtype: int64"
      ]
     },
     "execution_count": 42,
     "metadata": {},
     "output_type": "execute_result"
    }
   ],
   "source": [
    "y_train.value_counts()\n"
   ]
  },
  {
   "cell_type": "code",
   "execution_count": 43,
   "metadata": {},
   "outputs": [],
   "source": [
    "#X_train.head()"
   ]
  },
  {
   "cell_type": "code",
   "execution_count": 44,
   "metadata": {},
   "outputs": [],
   "source": [
    "### vectorizing SMS data\n",
    "# instantiate the vectorizer\n",
    "vect = CountVectorizer(encoding='unicode')\n"
   ]
  },
  {
   "cell_type": "code",
   "execution_count": 45,
   "metadata": {},
   "outputs": [],
   "source": [
    "# learn training data vocabulary, then create document-term matrix\n",
    "X_train_dtm = vect.fit_transform(X_train.values.astype('U'))\n"
   ]
  },
  {
   "cell_type": "code",
   "execution_count": 46,
   "metadata": {},
   "outputs": [
    {
     "data": {
      "text/plain": [
       "<1200x17155 sparse matrix of type '<class 'numpy.int64'>'\n",
       "\twith 6618 stored elements in Compressed Sparse Row format>"
      ]
     },
     "execution_count": 46,
     "metadata": {},
     "output_type": "execute_result"
    }
   ],
   "source": [
    "# transform testing data (using fitted vocabulary) into a document-term matrix\n",
    "X_test_dtm = vect.transform(X_test.values.astype('U'))\n",
    "X_test_dtm"
   ]
  },
  {
   "cell_type": "code",
   "execution_count": 48,
   "metadata": {
    "scrolled": true
   },
   "outputs": [
    {
     "data": {
      "text/html": [
       "<div>\n",
       "<style scoped>\n",
       "    .dataframe tbody tr th:only-of-type {\n",
       "        vertical-align: middle;\n",
       "    }\n",
       "\n",
       "    .dataframe tbody tr th {\n",
       "        vertical-align: top;\n",
       "    }\n",
       "\n",
       "    .dataframe thead th {\n",
       "        text-align: right;\n",
       "    }\n",
       "</style>\n",
       "<table border=\"1\" class=\"dataframe\">\n",
       "  <thead>\n",
       "    <tr style=\"text-align: right;\">\n",
       "      <th></th>\n",
       "      <th>token</th>\n",
       "      <th>count</th>\n",
       "    </tr>\n",
       "  </thead>\n",
       "  <tbody>\n",
       "    <tr>\n",
       "      <th>3738</th>\n",
       "      <td>ja</td>\n",
       "      <td>701</td>\n",
       "    </tr>\n",
       "    <tr>\n",
       "      <th>9619</th>\n",
       "      <td>on</td>\n",
       "      <td>620</td>\n",
       "    </tr>\n",
       "    <tr>\n",
       "      <th>1741</th>\n",
       "      <td>eesti</td>\n",
       "      <td>337</td>\n",
       "    </tr>\n",
       "    <tr>\n",
       "      <th>1806</th>\n",
       "      <td>ei</td>\n",
       "      <td>315</td>\n",
       "    </tr>\n",
       "    <tr>\n",
       "      <th>92</th>\n",
       "      <td>27e9</td>\n",
       "      <td>297</td>\n",
       "    </tr>\n",
       "    <tr>\n",
       "      <th>16009</th>\n",
       "      <td>video</td>\n",
       "      <td>169</td>\n",
       "    </tr>\n",
       "    <tr>\n",
       "      <th>4661</th>\n",
       "      <td>kas</td>\n",
       "      <td>165</td>\n",
       "    </tr>\n",
       "    <tr>\n",
       "      <th>6079</th>\n",
       "      <td>kui</td>\n",
       "      <td>155</td>\n",
       "    </tr>\n",
       "    <tr>\n",
       "      <th>6081</th>\n",
       "      <td>kuidas</td>\n",
       "      <td>141</td>\n",
       "    </tr>\n",
       "    <tr>\n",
       "      <th>9581</th>\n",
       "      <td>oma</td>\n",
       "      <td>132</td>\n",
       "    </tr>\n",
       "    <tr>\n",
       "      <th>15226</th>\n",
       "      <td>usa</td>\n",
       "      <td>130</td>\n",
       "    </tr>\n",
       "    <tr>\n",
       "      <th>2258</th>\n",
       "      <td>et</td>\n",
       "      <td>127</td>\n",
       "    </tr>\n",
       "    <tr>\n",
       "      <th>8393</th>\n",
       "      <td>mis</td>\n",
       "      <td>102</td>\n",
       "    </tr>\n",
       "    <tr>\n",
       "      <th>12186</th>\n",
       "      <td>sai</td>\n",
       "      <td>90</td>\n",
       "    </tr>\n",
       "    <tr>\n",
       "      <th>16438</th>\n",
       "      <td>võib</td>\n",
       "      <td>89</td>\n",
       "    </tr>\n",
       "    <tr>\n",
       "      <th>11733</th>\n",
       "      <td>reporter</td>\n",
       "      <td>86</td>\n",
       "    </tr>\n",
       "    <tr>\n",
       "      <th>4231</th>\n",
       "      <td>ka</td>\n",
       "      <td>81</td>\n",
       "    </tr>\n",
       "    <tr>\n",
       "      <th>17018</th>\n",
       "      <td>üle</td>\n",
       "      <td>80</td>\n",
       "    </tr>\n",
       "    <tr>\n",
       "      <th>15829</th>\n",
       "      <td>vastu</td>\n",
       "      <td>79</td>\n",
       "    </tr>\n",
       "    <tr>\n",
       "      <th>8270</th>\n",
       "      <td>mida</td>\n",
       "      <td>78</td>\n",
       "    </tr>\n",
       "    <tr>\n",
       "      <th>12079</th>\n",
       "      <td>saab</td>\n",
       "      <td>76</td>\n",
       "    </tr>\n",
       "    <tr>\n",
       "      <th>8299</th>\n",
       "      <td>miks</td>\n",
       "      <td>76</td>\n",
       "    </tr>\n",
       "    <tr>\n",
       "      <th>15307</th>\n",
       "      <td>uus</td>\n",
       "      <td>74</td>\n",
       "    </tr>\n",
       "    <tr>\n",
       "      <th>0</th>\n",
       "      <td>00</td>\n",
       "      <td>73</td>\n",
       "    </tr>\n",
       "    <tr>\n",
       "      <th>2546</th>\n",
       "      <td>galerii</td>\n",
       "      <td>72</td>\n",
       "    </tr>\n",
       "    <tr>\n",
       "      <th>9533</th>\n",
       "      <td>oli</td>\n",
       "      <td>70</td>\n",
       "    </tr>\n",
       "    <tr>\n",
       "      <th>1935</th>\n",
       "      <td>elu</td>\n",
       "      <td>67</td>\n",
       "    </tr>\n",
       "    <tr>\n",
       "      <th>10521</th>\n",
       "      <td>pole</td>\n",
       "      <td>63</td>\n",
       "    </tr>\n",
       "    <tr>\n",
       "      <th>9684</th>\n",
       "      <td>osa</td>\n",
       "      <td>63</td>\n",
       "    </tr>\n",
       "    <tr>\n",
       "      <th>16343</th>\n",
       "      <td>välja</td>\n",
       "      <td>60</td>\n",
       "    </tr>\n",
       "    <tr>\n",
       "      <th>1740</th>\n",
       "      <td>eest</td>\n",
       "      <td>57</td>\n",
       "    </tr>\n",
       "    <tr>\n",
       "      <th>5024</th>\n",
       "      <td>kes</td>\n",
       "      <td>56</td>\n",
       "    </tr>\n",
       "    <tr>\n",
       "      <th>16706</th>\n",
       "      <td>ära</td>\n",
       "      <td>55</td>\n",
       "    </tr>\n",
       "    <tr>\n",
       "      <th>193</th>\n",
       "      <td>aasta</td>\n",
       "      <td>55</td>\n",
       "    </tr>\n",
       "    <tr>\n",
       "      <th>15332</th>\n",
       "      <td>vaata</td>\n",
       "      <td>54</td>\n",
       "    </tr>\n",
       "    <tr>\n",
       "      <th>1750</th>\n",
       "      <td>eestis</td>\n",
       "      <td>52</td>\n",
       "    </tr>\n",
       "    <tr>\n",
       "      <th>6432</th>\n",
       "      <td>kõige</td>\n",
       "      <td>51</td>\n",
       "    </tr>\n",
       "    <tr>\n",
       "      <th>14033</th>\n",
       "      <td>telegrami</td>\n",
       "      <td>49</td>\n",
       "    </tr>\n",
       "    <tr>\n",
       "      <th>2323</th>\n",
       "      <td>euroopa</td>\n",
       "      <td>49</td>\n",
       "    </tr>\n",
       "    <tr>\n",
       "      <th>9142</th>\n",
       "      <td>nii</td>\n",
       "      <td>49</td>\n",
       "    </tr>\n",
       "  </tbody>\n",
       "</table>\n",
       "</div>"
      ],
      "text/plain": [
       "           token  count\n",
       "3738          ja    701\n",
       "9619          on    620\n",
       "1741       eesti    337\n",
       "1806          ei    315\n",
       "92          27e9    297\n",
       "16009      video    169\n",
       "4661         kas    165\n",
       "6079         kui    155\n",
       "6081      kuidas    141\n",
       "9581         oma    132\n",
       "15226        usa    130\n",
       "2258          et    127\n",
       "8393         mis    102\n",
       "12186        sai     90\n",
       "16438       võib     89\n",
       "11733   reporter     86\n",
       "4231          ka     81\n",
       "17018        üle     80\n",
       "15829      vastu     79\n",
       "8270        mida     78\n",
       "12079       saab     76\n",
       "8299        miks     76\n",
       "15307        uus     74\n",
       "0             00     73\n",
       "2546     galerii     72\n",
       "9533         oli     70\n",
       "1935         elu     67\n",
       "10521       pole     63\n",
       "9684         osa     63\n",
       "16343      välja     60\n",
       "1740        eest     57\n",
       "5024         kes     56\n",
       "16706        ära     55\n",
       "193        aasta     55\n",
       "15332      vaata     54\n",
       "1750      eestis     52\n",
       "6432       kõige     51\n",
       "14033  telegrami     49\n",
       "2323     euroopa     49\n",
       "9142         nii     49"
      ]
     },
     "execution_count": 48,
     "metadata": {},
     "output_type": "execute_result"
    }
   ],
   "source": [
    "## Examining the tokens and their counts\n",
    "\n",
    "# store token names\n",
    "X_train_tokens = vect.get_feature_names()\n",
    "\n",
    "X_train_dtm.toarray()\n",
    "\n",
    "# count how many times EACH token appears across ALL messages in X_train_dtm\n",
    "X_train_counts = np.sum(X_train_dtm.toarray(), axis=0)\n",
    "X_train_counts\n",
    "\n",
    "# create a DataFrame of tokens with their counts\n",
    "counts = pd.DataFrame({'token':X_train_tokens, 'count':X_train_counts})\n",
    "counts.sort_values(['count'], ascending=False).head(40)"
   ]
  },
  {
   "cell_type": "code",
   "execution_count": 161,
   "metadata": {},
   "outputs": [],
   "source": [
    "pd.DataFrame({'token':X_train_tokens, 'count':X_train_counts}).sort_values('count')\n"
   ]
  },
  {
   "cell_type": "code",
   "execution_count": 162,
   "metadata": {},
   "outputs": [
    {
     "data": {
      "text/plain": [
       "MultinomialNB()"
      ]
     },
     "execution_count": 162,
     "metadata": {},
     "output_type": "execute_result"
    }
   ],
   "source": [
    "# train a Naive Bayes model using X_train_dtm\n",
    "from sklearn.naive_bayes import MultinomialNB\n",
    "nb = MultinomialNB()\n",
    "nb.fit(X_train_dtm, y_train)"
   ]
  },
  {
   "cell_type": "code",
   "execution_count": 163,
   "metadata": {},
   "outputs": [],
   "source": [
    "# make class predictions for X_test_dtm\n",
    "y_pred_class = nb.predict(X_test_dtm)"
   ]
  },
  {
   "cell_type": "code",
   "execution_count": 164,
   "metadata": {},
   "outputs": [
    {
     "name": "stdout",
     "output_type": "stream",
     "text": [
      "0.4052777777777778\n",
      "0.4031957662419901\n",
      "0.40646723079431374\n",
      "0.4052777777777778\n"
     ]
    }
   ],
   "source": [
    "# calculate accuracy of class predictions\n",
    "from sklearn import metrics\n",
    "print(metrics.accuracy_score(y_test, y_pred_class))\n",
    "print(metrics.f1_score(y_test, y_pred_class, average='weighted'))\n",
    "print(metrics.precision_score(y_test, y_pred_class, average='weighted'))\n",
    "print(metrics.recall_score(y_test, y_pred_class, average='weighted'))\n"
   ]
  },
  {
   "cell_type": "code",
   "execution_count": 165,
   "metadata": {},
   "outputs": [
    {
     "name": "stdout",
     "output_type": "stream",
     "text": [
      "[[ 688  332  299  319   79   83]\n",
      " [ 146 1368   45  121   54   66]\n",
      " [ 306  137  928  302   69   58]\n",
      " [ 222  220  222  970   93   73]\n",
      " [  44   82   31   55  231 1357]\n",
      " [  38   96   37   65 1372  192]]\n"
     ]
    }
   ],
   "source": [
    "# confusion matrix\n",
    "print(metrics.confusion_matrix(y_test, y_pred_class))"
   ]
  },
  {
   "cell_type": "code",
   "execution_count": 166,
   "metadata": {},
   "outputs": [
    {
     "data": {
      "text/plain": [
       "array([1.86723646e-02, 8.34983004e-04, 9.69837794e-01, ...,\n",
       "       9.99852267e-01, 9.53571364e-01, 2.08695844e-03])"
      ]
     },
     "execution_count": 166,
     "metadata": {},
     "output_type": "execute_result"
    }
   ],
   "source": [
    "# predict (poorly calibrated) probabilities\n",
    "y_pred_prob = nb.predict_proba(X_test_dtm)[:, 1]\n",
    "y_pred_prob"
   ]
  },
  {
   "cell_type": "code",
   "execution_count": 167,
   "metadata": {},
   "outputs": [],
   "source": [
    "#print(metrics.roc_auc_score(y_test, y_pred_prob))"
   ]
  },
  {
   "cell_type": "code",
   "execution_count": 168,
   "metadata": {},
   "outputs": [
    {
     "name": "stdout",
     "output_type": "stream",
     "text": [
      "30307                  Meditsiin on ainult masohhistidele?\n",
      "9907     FOTOD <U+27E9> Soomlased ehitavad järvel maail...\n",
      "260      Vasta Tervise Arengu Instituudi küsitusele: ta...\n",
      "39859    INTERVJUU KOOLIJÜTSIGA <U+27E9> Mis tunne on t...\n",
      "2905     Edukalt roheline: Saksa küla teenib taastuvene...\n",
      "Name: pealkiri, dtype: object\n"
     ]
    }
   ],
   "source": [
    "# print message text for the false positives\n",
    "print(X_test[y_test < y_pred_class][0:5])\n"
   ]
  },
  {
   "cell_type": "code",
   "execution_count": 169,
   "metadata": {},
   "outputs": [],
   "source": [
    "df = pd.DataFrame({\n",
    "    'y_test': y_test,\n",
    "    'y_pred_class': y_pred_class\n",
    "})\n",
    "\n",
    "df.to_csv(\"C:\\\\Users\\\\annal\\\\Documents\\\\NLP\\\\andmekraapimine\\\\NB.csv\", index=False, encoding='utf-8')"
   ]
  },
  {
   "cell_type": "code",
   "execution_count": 170,
   "metadata": {},
   "outputs": [],
   "source": [
    "#from sklearn.metrics import confusion_matrix\n",
    "#import matplotlib.pyplot as plt\n",
    "#import seaborn as sns\n",
    "\n",
    "\n",
    "#conf_mat = confusion_matrix(y_test, y_pred_class)\n",
    "#fig, ax = plt.subplots(figsize=(10,10))\n",
    "#sns.heatmap(conf_mat, annot=True, fmt='d',\n",
    "#            xticklabels=uudised_vaike.portaal, yticklabels=uudised_vaike.portaal)\n",
    "#plt.ylabel('Actual')\n",
    "#plt.xlabel('Predicted')\n",
    "#plt.show()"
   ]
  },
  {
   "cell_type": "code",
   "execution_count": 171,
   "metadata": {},
   "outputs": [
    {
     "data": {
      "text/plain": [
       "'Peeter Espak: teadus, rahvus ja müüt'"
      ]
     },
     "execution_count": 171,
     "metadata": {},
     "output_type": "execute_result"
    }
   ],
   "source": [
    "X_test.iloc[10]"
   ]
  },
  {
   "cell_type": "code",
   "execution_count": 172,
   "metadata": {},
   "outputs": [
    {
     "data": {
      "text/plain": [
       "5"
      ]
     },
     "execution_count": 172,
     "metadata": {},
     "output_type": "execute_result"
    }
   ],
   "source": [
    "y_test.iloc[10]"
   ]
  },
  {
   "cell_type": "code",
   "execution_count": 173,
   "metadata": {},
   "outputs": [
    {
     "data": {
      "text/plain": [
       "4"
      ]
     },
     "execution_count": 173,
     "metadata": {},
     "output_type": "execute_result"
    }
   ],
   "source": [
    "y_pred_class[10]"
   ]
  },
  {
   "cell_type": "code",
   "execution_count": 174,
   "metadata": {},
   "outputs": [
    {
     "name": "stderr",
     "output_type": "stream",
     "text": [
      "C:\\Users\\annal\\AppData\\Roaming\\Python\\Python37\\site-packages\\sklearn\\linear_model\\_logistic.py:765: ConvergenceWarning: lbfgs failed to converge (status=1):\n",
      "STOP: TOTAL NO. of ITERATIONS REACHED LIMIT.\n",
      "\n",
      "Increase the number of iterations (max_iter) or scale the data as shown in:\n",
      "    https://scikit-learn.org/stable/modules/preprocessing.html\n",
      "Please also refer to the documentation for alternative solver options:\n",
      "    https://scikit-learn.org/stable/modules/linear_model.html#logistic-regression\n",
      "  extra_warning_msg=_LOGISTIC_SOLVER_CONVERGENCE_MSG)\n"
     ]
    },
    {
     "data": {
      "text/plain": [
       "LogisticRegression(C=1000000000.0)"
      ]
     },
     "execution_count": 174,
     "metadata": {},
     "output_type": "execute_result"
    }
   ],
   "source": [
    "# import/instantiate/fit\n",
    "from sklearn.linear_model import LogisticRegression\n",
    "logreg = LogisticRegression(C=1e9)\n",
    "logreg.fit(X_train_dtm, y_train)"
   ]
  },
  {
   "cell_type": "code",
   "execution_count": 175,
   "metadata": {},
   "outputs": [],
   "source": [
    "y_pred_class_log = logreg.predict(X_test_dtm)\n",
    "y_pred_prob = logreg.predict_proba(X_test_dtm)[:, 1]"
   ]
  },
  {
   "cell_type": "code",
   "execution_count": 176,
   "metadata": {},
   "outputs": [
    {
     "name": "stdout",
     "output_type": "stream",
     "text": [
      "0.39305555555555555\n"
     ]
    }
   ],
   "source": [
    "print(metrics.accuracy_score(y_test, y_pred_class_log))\n"
   ]
  },
  {
   "cell_type": "code",
   "execution_count": 177,
   "metadata": {},
   "outputs": [
    {
     "name": "stdout",
     "output_type": "stream",
     "text": [
      "0.22194444444444444\n"
     ]
    }
   ],
   "source": [
    "from sklearn.neighbors import KNeighborsClassifier\n",
    "\n",
    "knn = KNeighborsClassifier()\n",
    "knn.fit(X_train_dtm, y_train)\n",
    "y_pred_knn = knn.predict(X_test_dtm)\n",
    "print(metrics.accuracy_score(y_test, y_pred_knn))\n"
   ]
  },
  {
   "cell_type": "code",
   "execution_count": 178,
   "metadata": {},
   "outputs": [
    {
     "name": "stdout",
     "output_type": "stream",
     "text": [
      "0.3978703703703704\n"
     ]
    }
   ],
   "source": [
    "from sklearn.svm import LinearSVC\n",
    "\n",
    "svm = LinearSVC()\n",
    "svm.fit(X_train_dtm, y_train)\n",
    "y_pred_svm = svm.predict(X_test_dtm)\n",
    "print(metrics.accuracy_score(y_test, y_pred_svm))\n"
   ]
  },
  {
   "cell_type": "code",
   "execution_count": 179,
   "metadata": {},
   "outputs": [
    {
     "name": "stdout",
     "output_type": "stream",
     "text": [
      "0.3373148148148148\n"
     ]
    }
   ],
   "source": [
    "from sklearn.ensemble import RandomForestClassifier\n",
    "forest = RandomForestClassifier(n_estimators=200, max_depth=3, random_state=0)\n",
    "\n",
    "forest.fit(X_train_dtm, y_train)\n",
    "y_pred_forest = forest.predict(X_test_dtm)\n",
    "print(metrics.accuracy_score(y_test, y_pred_forest))\n"
   ]
  },
  {
   "cell_type": "code",
   "execution_count": 180,
   "metadata": {},
   "outputs": [],
   "source": [
    "#from sklearn.metrics import confusion_matrix\n",
    "#conf_mat = confusion_matrix(y_test, y_pred)\n",
    "#fig, ax = plt.subplots(figsize=(10,10))\n",
    "#sns.heatmap(conf_mat, annot=True, fmt='d',\n",
    "#            xticklabels=category_id_df.Product.values, yticklabels=category_id_df.Product.values)\n",
    "#plt.ylabel('Actual')\n",
    "#plt.xlabel('Predicted')\n",
    "#plt.show()"
   ]
  },
  {
   "cell_type": "code",
   "execution_count": null,
   "metadata": {},
   "outputs": [],
   "source": [
    "# Part II"
   ]
  },
  {
   "cell_type": "code",
   "execution_count": null,
   "metadata": {},
   "outputs": [],
   "source": [
    "col = ['portaal', 'pealkiri']\n",
    "df = uudised_vaike[col]\n",
    "df = df[pd.notnull(df['pealkiri'])]\n",
    "df.columns = ['portaal', 'pealkiri']\n",
    "df['category_id'] = df['pealkiri'].factorize()[0]\n",
    "category_id_df = df[['pealkiri', 'category_id']].drop_duplicates().sort_values('category_id')\n",
    "category_to_id = dict(category_id_df.values)\n",
    "id_to_category = dict(category_id_df[['category_id', 'pealkiri']].values)\n",
    "df.head()"
   ]
  },
  {
   "cell_type": "code",
   "execution_count": null,
   "metadata": {},
   "outputs": [],
   "source": [
    "#import matplotlib.pyplot as plt\n",
    "#fig = plt.figure(figsize=(8,6))\n",
    "#df.groupby('category_id').pealkiri.count().plot.bar(ylim=0)\n",
    "#plt.show()"
   ]
  },
  {
   "cell_type": "code",
   "execution_count": null,
   "metadata": {},
   "outputs": [],
   "source": [
    "from sklearn.feature_extraction.text import TfidfVectorizer\n",
    "tfidf = TfidfVectorizer(sublinear_tf=True, min_df=5, norm='l2',\n",
    "                        encoding='latin-1', ngram_range=(1, 2))\n",
    "features = tfidf.fit_transform(df.pealkiri).toarray()\n",
    "labels = df.category_id\n",
    "features.shape"
   ]
  },
  {
   "cell_type": "code",
   "execution_count": null,
   "metadata": {},
   "outputs": [],
   "source": [
    "#from sklearn.feature_selection import chi2\n",
    "#import numpy as np\n",
    "#N = 2\n",
    "#for pealkiri, category_id in sorted(category_to_id.items()):\n",
    "#  features_chi2 = chi2(features, labels == category_id)\n",
    "#  indices = np.argsort(features_chi2[0])\n",
    "#  feature_names = np.array(tfidf.get_feature_names())[indices]\n",
    "#  unigrams = [v for v in feature_names if len(v.split(' ')) == 1]\n",
    "#  bigrams = [v for v in feature_names if len(v.split(' ')) == 2]\n",
    "#  print(\"# '{}':\".format(pealkiri))\n",
    "#  print(\"  . Most correlated unigrams:\\n. {}\".format('\\n. '.join(unigrams[-N:])))\n",
    "#  print(\"  . Most correlated bigrams:\\n. {}\".format('\\n. '.join(bigrams[-N:])))"
   ]
  },
  {
   "cell_type": "code",
   "execution_count": null,
   "metadata": {},
   "outputs": [],
   "source": [
    "from sklearn.model_selection import train_test_split\n",
    "from sklearn.feature_extraction.text import CountVectorizer\n",
    "from sklearn.feature_extraction.text import TfidfTransformer\n",
    "from sklearn.naive_bayes import MultinomialNB\n",
    "X_train, X_test, y_train, y_test = train_test_split(df['pealkiri'], df['portaal'], random_state = 0)\n",
    "count_vect = CountVectorizer()\n"
   ]
  },
  {
   "cell_type": "code",
   "execution_count": null,
   "metadata": {},
   "outputs": [],
   "source": [
    "X_train_counts = count_vect.fit_transform(X_train)\n",
    "tfidf_transformer = TfidfTransformer()\n"
   ]
  },
  {
   "cell_type": "code",
   "execution_count": null,
   "metadata": {},
   "outputs": [],
   "source": [
    "X_train_tfidf = tfidf_transformer.fit_transform(X_train_counts)\n"
   ]
  },
  {
   "cell_type": "code",
   "execution_count": null,
   "metadata": {},
   "outputs": [],
   "source": [
    "clf = MultinomialNB().fit(X_train_tfidf, y_train)"
   ]
  },
  {
   "cell_type": "code",
   "execution_count": null,
   "metadata": {},
   "outputs": [],
   "source": [
    "from sklearn.linear_model import LogisticRegression\n",
    "from sklearn.ensemble import RandomForestClassifier\n",
    "from sklearn.svm import LinearSVC\n",
    "from sklearn.model_selection import cross_val_score\n",
    "from sklearn.neighbors import KNeighborsClassifier\n",
    "models = [\n",
    "    RandomForestClassifier(n_estimators=200, max_depth=3, random_state=0),\n",
    "    LinearSVC(),\n",
    "    MultinomialNB(),\n",
    "    LogisticRegression(random_state=0),\n",
    "    KNeighborsClassifier()\n",
    "    \n",
    "]\n",
    "\n"
   ]
  },
  {
   "cell_type": "code",
   "execution_count": null,
   "metadata": {},
   "outputs": [],
   "source": [
    "CV = 5\n",
    "cv_df = pd.DataFrame(index=range(CV * len(models)))\n",
    "entries = []\n",
    "for model in models:\n",
    "  model_name = model.__class__.__name__\n",
    "  accuracies = cross_val_score(model, features, labels, scoring='accuracy', cv=CV)\n",
    "  for fold_idx, accuracy in enumerate(accuracies):\n",
    "    entries.append((model_name, fold_idx, accuracy))\n",
    "cv_df = pd.DataFrame(entries, columns=['model_name', 'fold_idx', 'accuracy'])\n",
    "import seaborn as sns\n",
    "sns.boxplot(x='model_name', y='accuracy', data=cv_df)\n",
    "sns.stripplot(x='model_name', y='accuracy', data=cv_df, \n",
    "              size=8, jitter=True, edgecolor=\"gray\", linewidth=2)\n",
    "plt.show()"
   ]
  },
  {
   "cell_type": "code",
   "execution_count": null,
   "metadata": {},
   "outputs": [],
   "source": [
    "cv_df.groupby('model_name').accuracy.mean()\n"
   ]
  },
  {
   "cell_type": "code",
   "execution_count": null,
   "metadata": {},
   "outputs": [],
   "source": [
    "model = LinearSVC()\n",
    "X_train, X_test, y_train, y_test, indices_train, indices_test = train_test_split(features, labels, df.index, test_size=0.33, random_state=0)\n"
   ]
  },
  {
   "cell_type": "code",
   "execution_count": null,
   "metadata": {},
   "outputs": [],
   "source": [
    "model.fit(X_train, y_train)\n"
   ]
  },
  {
   "cell_type": "code",
   "execution_count": null,
   "metadata": {},
   "outputs": [],
   "source": [
    "y_pred = model.predict(X_test)\n"
   ]
  },
  {
   "cell_type": "code",
   "execution_count": null,
   "metadata": {},
   "outputs": [],
   "source": [
    "#from sklearn.metrics import confusion_matrix\n",
    "#conf_mat = confusion_matrix(y_test, y_pred)\n",
    "#fig, ax = plt.subplots(figsize=(10,10))\n",
    "#sns.heatmap(conf_mat, annot=True, fmt='d',\n",
    "#            xticklabels=category_id_df.Product.values, yticklabels=category_id_df.Product.values)\n",
    "#plt.ylabel('Actual')\n",
    "#plt.xlabel('Predicted')\n",
    "#plt.show()"
   ]
  },
  {
   "cell_type": "code",
   "execution_count": null,
   "metadata": {},
   "outputs": [],
   "source": [
    "# calculate accuracy of class predictions\n",
    "from sklearn import metrics\n",
    "print(metrics.accuracy_score(y_test, y_pred))"
   ]
  },
  {
   "cell_type": "code",
   "execution_count": null,
   "metadata": {},
   "outputs": [],
   "source": [
    "\n",
    "model = KNeighborsClassifier()\n"
   ]
  },
  {
   "cell_type": "code",
   "execution_count": null,
   "metadata": {},
   "outputs": [],
   "source": [
    "model.fit(X_train, y_train)\n"
   ]
  },
  {
   "cell_type": "code",
   "execution_count": null,
   "metadata": {},
   "outputs": [],
   "source": [
    "y_pred = model.predict(X_test)\n"
   ]
  },
  {
   "cell_type": "code",
   "execution_count": null,
   "metadata": {},
   "outputs": [],
   "source": [
    "metrics.accuracy_score(y_test, y_pred)"
   ]
  },
  {
   "cell_type": "code",
   "execution_count": 228,
   "metadata": {},
   "outputs": [
    {
     "data": {
      "text/plain": [
       "[]"
      ]
     },
     "execution_count": 228,
     "metadata": {},
     "output_type": "execute_result"
    },
    {
     "data": {
      "image/png": "[encoded data removed]",
      "text/plain": [
       "<Figure size 432x288 with 1 Axes>"
      ]
     },
     "metadata": {
      "needs_background": "light"
     },
     "output_type": "display_data"
    }
   ],
   "source": [
    "import pandas as pd\n",
    "import matplotlib.pyplot as plt\n",
    "a = {'NB': {'100% data': 0.59, '50% data': 0.57, 'Subset of 9000 headlines': 0.41},\n",
    "    'LR': {'100% data': 0.58, '50% data': 0.56, 'Subset of 9000 headlines': 0.39},\n",
    "    'KNN': {'100% data': 0.39, '50% data': 0.36, 'Subset of 9000 headlines': 0.22},\n",
    "    'LN-SVM': {'100% data': 0.58, '50% data': 0.56, 'Subset of 9000 headlines': 0.4},\n",
    "    'RF': {'100% data': 0.42, '50% data': 0.42, 'Subset of 9000 headlines': 0.33}}\n",
    "\n",
    "index = ['NB', 'LR', 'KNN', 'SVM', 'RF']\n",
    "\n",
    "df = pd.DataFrame(a).T\n",
    "\n",
    "ax = df.plot.bar(color=['steelblue', 'skyblue', 'lavender'])\n",
    "ax.tick_params(labelrotation=45)\n",
    "ax.set_title(\"Accuracy\",color='black')\n",
    "ax.legend(bbox_to_anchor=(1.0, 1.0))\n",
    "ax.plot()"
   ]
  }
 ],
 "metadata": {
  "kernelspec": {
   "display_name": "Python 3",
   "language": "python",
   "name": "python3"
  },
  "language_info": {
   "codemirror_mode": {
    "name": "ipython",
    "version": 3
   },
   "file_extension": ".py",
   "mimetype": "text/x-python",
   "name": "python",
   "nbconvert_exporter": "python",
   "pygments_lexer": "ipython3",
   "version": "3.7.6"
  },
  "toc": {
   "base_numbering": 1,
   "nav_menu": {},
   "number_sections": true,
   "sideBar": true,
   "skip_h1_title": false,
   "title_cell": "Table of Contents",
   "title_sidebar": "Contents",
   "toc_cell": false,
   "toc_position": {},
   "toc_section_display": true,
   "toc_window_display": false
  },
  "varInspector": {
   "cols": {
    "lenName": 16,
    "lenType": 16,
    "lenVar": 40
   },
   "kernels_config": {
    "python": {
     "delete_cmd_postfix": "",
     "delete_cmd_prefix": "del ",
     "library": "var_list.py",
     "varRefreshCmd": "print(var_dic_list())"
    },
    "r": {
     "delete_cmd_postfix": ") ",
     "delete_cmd_prefix": "rm(",
     "library": "var_list.r",
     "varRefreshCmd": "cat(var_dic_list()) "
    }
   },
   "types_to_exclude": [
    "module",
    "function",
    "builtin_function_or_method",
    "instance",
    "_Feature"
   ],
   "window_display": false
  }
 },
 "nbformat": 4,
 "nbformat_minor": 4
}
