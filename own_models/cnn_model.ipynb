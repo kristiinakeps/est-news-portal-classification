{
  "nbformat": 4,
  "nbformat_minor": 0,
  "metadata": {
    "colab": {
      "name": "cnn_model.ipynb",
      "provenance": [],
      "collapsed_sections": [],
      "toc_visible": true
    },
    "kernelspec": {
      "name": "python3",
      "display_name": "Python 3"
    },
    "language_info": {
      "name": "python"
    }
  },
  "cells": [
    {
      "cell_type": "markdown",
      "metadata": {
        "id": "C-lMnEOfe9p0"
      },
      "source": [
        "# CNN model"
      ]
    },
    {
      "cell_type": "code",
      "metadata": {
        "id": "hWIRlbmBetmC"
      },
      "source": [
        "import torch\n",
        "from torchtext import data\n",
        "from torchtext import datasets\n",
        "from torch.utils.data import Dataset, DataLoader\n",
        "from torch.utils.data.sampler import SubsetRandomSampler\n",
        "import torch.nn as nn\n",
        "import torch.nn.functional as F\n",
        "import torch.optim as optim\n",
        "\n",
        "import random\n",
        "import numpy as np\n",
        "\n",
        "from pathlib import Path\n",
        "import time\n",
        "\n",
        "import csv\n",
        "\n",
        "# Check if we are running on a CPU or GPU\n",
        "device = torch.device('cuda' if torch.cuda.is_available() else 'cpu')"
      ],
      "execution_count": 158,
      "outputs": []
    },
    {
      "cell_type": "code",
      "metadata": {
        "id": "7Z0YCwOMf3Xl",
        "colab": {
          "base_uri": "https://localhost:8080/"
        },
        "outputId": "0817cab5-d085-47b3-ae1b-74daf94c89bb"
      },
      "source": [
        "from google.colab import drive\n",
        "drive.mount('/content/drive')"
      ],
      "execution_count": 161,
      "outputs": [
        {
          "output_type": "stream",
          "text": [
            "Mounted at /content/drive\n"
          ],
          "name": "stdout"
        }
      ]
    },
    {
      "cell_type": "code",
      "metadata": {
        "colab": {
          "base_uri": "https://localhost:8080/"
        },
        "id": "ItR9sUMGpZXl",
        "outputId": "03583053-ff1a-48ae-f3a8-c006add6179c"
      },
      "source": [
        "!pip install stanza \n",
        "import stanza\n",
        "stanza.download(lang='et')\n",
        "stanza_nlp = stanza.Pipeline(lang='et', processors='tokenize')"
      ],
      "execution_count": 159,
      "outputs": [
        {
          "output_type": "stream",
          "text": [
            "Requirement already satisfied: stanza in /usr/local/lib/python3.7/dist-packages (1.2)\n",
            "Requirement already satisfied: numpy in /usr/local/lib/python3.7/dist-packages (from stanza) (1.19.5)\n",
            "Requirement already satisfied: tqdm in /usr/local/lib/python3.7/dist-packages (from stanza) (4.41.1)\n",
            "Requirement already satisfied: torch>=1.3.0 in /usr/local/lib/python3.7/dist-packages (from stanza) (1.8.1+cu101)\n",
            "Requirement already satisfied: requests in /usr/local/lib/python3.7/dist-packages (from stanza) (2.23.0)\n",
            "Requirement already satisfied: protobuf in /usr/local/lib/python3.7/dist-packages (from stanza) (3.12.4)\n",
            "Requirement already satisfied: typing-extensions in /usr/local/lib/python3.7/dist-packages (from torch>=1.3.0->stanza) (3.7.4.3)\n",
            "Requirement already satisfied: chardet<4,>=3.0.2 in /usr/local/lib/python3.7/dist-packages (from requests->stanza) (3.0.4)\n",
            "Requirement already satisfied: idna<3,>=2.5 in /usr/local/lib/python3.7/dist-packages (from requests->stanza) (2.10)\n",
            "Requirement already satisfied: urllib3!=1.25.0,!=1.25.1,<1.26,>=1.21.1 in /usr/local/lib/python3.7/dist-packages (from requests->stanza) (1.24.3)\n",
            "Requirement already satisfied: certifi>=2017.4.17 in /usr/local/lib/python3.7/dist-packages (from requests->stanza) (2020.12.5)\n",
            "Requirement already satisfied: six>=1.9 in /usr/local/lib/python3.7/dist-packages (from protobuf->stanza) (1.15.0)\n",
            "Requirement already satisfied: setuptools in /usr/local/lib/python3.7/dist-packages (from protobuf->stanza) (56.1.0)\n"
          ],
          "name": "stdout"
        },
        {
          "output_type": "stream",
          "text": [
            "Downloading https://raw.githubusercontent.com/stanfordnlp/stanza-resources/master/resources_1.2.0.json: 128kB [00:00, 18.1MB/s]                    \n",
            "2021-05-08 09:40:05 INFO: Downloading default packages for language: et (Estonian)...\n",
            "2021-05-08 09:40:06 INFO: File exists: /root/stanza_resources/et/default.zip.\n",
            "2021-05-08 09:40:09 INFO: Finished downloading models and saved to /root/stanza_resources.\n",
            "2021-05-08 09:40:09 INFO: Loading these models for language: et (Estonian):\n",
            "=======================\n",
            "| Processor | Package |\n",
            "-----------------------\n",
            "| tokenize  | edt     |\n",
            "=======================\n",
            "\n",
            "2021-05-08 09:40:09 INFO: Use device: cpu\n",
            "2021-05-08 09:40:09 INFO: Loading: tokenize\n",
            "2021-05-08 09:40:09 INFO: Done loading processors!\n"
          ],
          "name": "stderr"
        }
      ]
    },
    {
      "cell_type": "code",
      "metadata": {
        "colab": {
          "base_uri": "https://localhost:8080/"
        },
        "id": "bYLSLt9df7qw",
        "outputId": "6648b806-1d19-413e-fcc0-ad77de3ef890"
      },
      "source": [
        "!wget https://dl.fbaipublicfiles.com/fasttext/vectors-crawl/cc.et.300.vec.gz"
      ],
      "execution_count": 162,
      "outputs": [
        {
          "output_type": "stream",
          "text": [
            "--2021-05-08 09:41:25--  https://dl.fbaipublicfiles.com/fasttext/vectors-crawl/cc.et.300.vec.gz\n",
            "Resolving dl.fbaipublicfiles.com (dl.fbaipublicfiles.com)... 104.22.74.142, 104.22.75.142, 172.67.9.4, ...\n",
            "Connecting to dl.fbaipublicfiles.com (dl.fbaipublicfiles.com)|104.22.74.142|:443... connected.\n",
            "HTTP request sent, awaiting response... 200 OK\n",
            "Length: 1209204423 (1.1G) [binary/octet-stream]\n",
            "Saving to: ‘cc.et.300.vec.gz.1’\n",
            "\n",
            "cc.et.300.vec.gz.1  100%[===================>]   1.13G  27.7MB/s    in 42s     \n",
            "\n",
            "2021-05-08 09:42:08 (27.2 MB/s) - ‘cc.et.300.vec.gz.1’ saved [1209204423/1209204423]\n",
            "\n"
          ],
          "name": "stdout"
        }
      ]
    },
    {
      "cell_type": "code",
      "metadata": {
        "id": "iPI18SQugFf6",
        "colab": {
          "base_uri": "https://localhost:8080/"
        },
        "outputId": "2f33edfb-5b1f-4e36-e06e-c0c3017694da"
      },
      "source": [
        "!gunzip cc.et.300.vec.gz\n",
        "!mkdir vector_cache/\n",
        "!mv cc.et.300.vec vector_cache/"
      ],
      "execution_count": 163,
      "outputs": [
        {
          "output_type": "stream",
          "text": [
            "mkdir: cannot create directory ‘vector_cache/’: File exists\n"
          ],
          "name": "stdout"
        }
      ]
    },
    {
      "cell_type": "code",
      "metadata": {
        "id": "aux7rG1cgL7I"
      },
      "source": [
        "PAD = '<PAD>'\n",
        "PAD_ID = 0\n",
        "UNK = '<UNK>'\n",
        "UNK_ID = 1\n",
        "\n",
        "VOCAB_PREFIX = [PAD, UNK]\n",
        "\n",
        "VEC_PATH = Path('vector_cache') / 'cc.et.300.vec'\n",
        "DATA_PATH = Path('data')\n",
        "MAX_VOCAB = 25000\n",
        "\n",
        "batch_size = 64\n",
        "test_split = .2\n",
        "validation_split = .3\n",
        "shuffle_dataset = True\n",
        "random_seed = 42"
      ],
      "execution_count": 164,
      "outputs": []
    },
    {
      "cell_type": "code",
      "metadata": {
        "id": "ZyjzfwjtwQgb"
      },
      "source": [
        "class PretrainedWordVocab:\n",
        "    def __init__(self, data, lower=False):\n",
        "        self.data = data\n",
        "        self.lower = lower\n",
        "        self.build_vocab()\n",
        "        \n",
        "    def normalize_unit(self, unit):\n",
        "        if self.lower:\n",
        "            return unit.lower()\n",
        "        else:\n",
        "            return unit\n",
        "        \n",
        "    def unit2id(self, unit):\n",
        "        unit = self.normalize_unit(unit)\n",
        "        if unit in self._unit2id:\n",
        "            return self._unit2id[unit]\n",
        "        else:\n",
        "            return self._unit2id[UNK]\n",
        "    \n",
        "    def id2unit(self, id):\n",
        "        return self._id2unit[id]\n",
        "    \n",
        "    def map(self, units):\n",
        "        return [self.unit2id(unit) for unit in units]\n",
        "        \n",
        "    def build_vocab(self):\n",
        "        # self._id2unit - id to unit (add PAD and UNK)\n",
        "        # self._unit2id - unit to id \n",
        "        self._id2unit =  VOCAB_PREFIX + self.data\n",
        "        self._unit2id = {w:i for i,w in enumerate(self._id2unit)}\n",
        "        \n",
        "    def __len__(self):\n",
        "        return len(self._unit2id)"
      ],
      "execution_count": 165,
      "outputs": []
    },
    {
      "cell_type": "code",
      "metadata": {
        "id": "SLwuqgC2wUBd"
      },
      "source": [
        "class Pretrain:\n",
        "    def __init__(self, vec_filename, max_vocab=-1):\n",
        "        self._vec_filename = vec_filename\n",
        "        self._max_vocab = max_vocab\n",
        "        \n",
        "    @property\n",
        "    def vocab(self):\n",
        "        if not hasattr(self, '_vocab'):\n",
        "            self._vocab, self._emb = self.read()\n",
        "        return self._vocab\n",
        "    \n",
        "    @property\n",
        "    def emb(self):\n",
        "        if not hasattr(self, '_emb'):\n",
        "            self._vocab, self._emb = self.read()\n",
        "        return self._emb\n",
        "        \n",
        "    def read(self):\n",
        "        if self._vec_filename is None:\n",
        "            raise Exception(\"Vector file is not provided.\")\n",
        "        print(f\"Reading pretrained vectors from {self._vec_filename}...\")\n",
        "        \n",
        "        words, emb, failed = self.read_from_file(self._vec_filename, open_func=open)\n",
        "        \n",
        "        if failed > 0: # recover failure\n",
        "            emb = emb[:-failed]\n",
        "        if len(emb) - len(VOCAB_PREFIX) != len(words):\n",
        "            raise Exception(\"Loaded number of vectors does not match number of words.\")\n",
        "            \n",
        "        # Use a fixed vocab size\n",
        "        if self._max_vocab > len(VOCAB_PREFIX) and self._max_vocab < len(words):\n",
        "            words = words[:self._max_vocab - len(VOCAB_PREFIX)]\n",
        "            emb = emb[:self._max_vocab]\n",
        "                \n",
        "        vocab = PretrainedWordVocab(words, lower=True)\n",
        "        \n",
        "        return vocab, emb\n",
        "        \n",
        "    def read_from_file(self, filename, open_func=open):\n",
        "        \"\"\"\n",
        "        Open a vector file using the provided function and read from it.\n",
        "        \"\"\"\n",
        "        first = True\n",
        "        words = []\n",
        "        failed = 0\n",
        "        with open_func(filename, 'rb') as f:\n",
        "            for i, line in enumerate(f):\n",
        "                try:\n",
        "                    line = line.decode()\n",
        "                except UnicodeDecodeError:\n",
        "                    failed += 1\n",
        "                    continue\n",
        "                if first:\n",
        "                    # the first line contains the number of word vectors and the dimensionality\n",
        "                    first = False\n",
        "                    line = line.strip().split(' ')\n",
        "                    rows, cols = [int(x) for x in line]\n",
        "                    emb = np.zeros((rows + len(VOCAB_PREFIX), cols), dtype=np.float32)\n",
        "                    continue\n",
        "\n",
        "                line = line.rstrip().split(' ')\n",
        "                emb[i+len(VOCAB_PREFIX)-1-failed, :] = [float(x) for x in line[-cols:]]\n",
        "                words.append(' '.join(line[:-cols]))\n",
        "        return words, emb, failed"
      ],
      "execution_count": 166,
      "outputs": []
    },
    {
      "cell_type": "code",
      "metadata": {
        "id": "00vAiRH0wdlf"
      },
      "source": [
        "class NewsDataSet(Dataset):\n",
        "    def __init__(self, pretrain, data_folder='.data', test=False):\n",
        "        self.pretrain_vocab = pretrain.vocab\n",
        "        self.label_vocab = {'elu24': 0, 'err': 1, 'paevaleht': 2, 'postimees': 3, 'telegram': 4, 'uued_uudised': 5}\n",
        "        self.delimiters =  {'elu24': ';', 'err': ',', 'paevaleht': ',', 'postimees': ';', 'telegram': ',', 'uued_uudised': ','}\n",
        "        self.contents_idx = {'elu24': 7, 'err': 5, 'paevaleht': 3, 'postimees': 6, 'telegram': 3, 'uued_uudised': 3}\n",
        "        self.data_folder = data_folder    \n",
        "        self.data = []\n",
        "        \n",
        "        if self.data_folder.exists():\n",
        "            self.load()\n",
        "        else:\n",
        "            raise ValueError(\"Data path doesn't exist!\")\n",
        "        \n",
        "    def load(self):\n",
        "        for label in ['err', 'paevaleht', 'telegram', 'uued_uudised', 'elu24', 'postimees']:\n",
        "            print(f'Reading {label} articles...')\n",
        "            filename = label + '.csv'\n",
        "            p = self.data_folder / filename\n",
        "            with open(p, 'r', encoding='utf-8') as f:\n",
        "                csv_reader = csv.reader(f, delimiter=self.delimiters[label])\n",
        "                next(csv_reader) # header\n",
        "                for row in csv_reader:\n",
        "                    try:\n",
        "                        row = next(csv_reader)\n",
        "                        contents = row[self.contents_idx[label]]\n",
        "                        if label in ['elu24', 'postimees']:\n",
        "                            contents = contents.replace('|', '\\n')\n",
        "                        stanza_doc = stanza_nlp(contents)\n",
        "                        tokenized = [[token.text for token in stanza_doc.sentences[i].tokens] for i in range(len(stanza_doc.sentences))]\n",
        "                        flat_tokenized = flat_list = [item for sublist in tokenized for item in sublist]\n",
        "                        self.data.append((self.pretrain_vocab.map(flat_tokenized), self.label_vocab[label]))\n",
        "                    except:\n",
        "                        continue\n",
        "\n",
        "                \n",
        "    def __len__(self):\n",
        "        return len(self.data)\n",
        "    \n",
        "    def __getitem__(self, idx):\n",
        "        return self.data[idx]"
      ],
      "execution_count": 167,
      "outputs": []
    },
    {
      "cell_type": "code",
      "metadata": {
        "id": "A_CF0sY33Kvb"
      },
      "source": [
        "p = DATA_PATH / 'postimees.csv'\n",
        "with open(p, 'r', encoding='utf-8') as f:\n",
        "    reader = csv.reader(f, delimiter=';')\n",
        "    for row in reader:\n",
        "        print(row[6].replace('|', '\\n'))"
      ],
      "execution_count": null,
      "outputs": []
    },
    {
      "cell_type": "code",
      "metadata": {
        "id": "CY5vEDcKyti5"
      },
      "source": [
        "pretrain = Pretrain(VEC_PATH, MAX_VOCAB)"
      ],
      "execution_count": 169,
      "outputs": []
    },
    {
      "cell_type": "code",
      "metadata": {
        "id": "cCNKdFoVx3Ji"
      },
      "source": [
        "def pad_sequences(batch):\n",
        "  max_len = max([len(b[0]) for b in batch])\n",
        "\n",
        "  padded_sequences = torch.zeros((len(batch), max_len), dtype=torch.long)\n",
        "  labels = torch.zeros(len(batch), dtype=torch.float)\n",
        "\n",
        "  for i, b in enumerate(batch):\n",
        "    padded_sequences[i, :len(b[0])] = torch.LongTensor(b[0]) \n",
        "    labels[i] = b[1] \n",
        "  \n",
        "  padded_sequences = padded_sequences.to(device)\n",
        "  labels = labels.to(device)\n",
        "\n",
        "  return padded_sequences, labels\n"
      ],
      "execution_count": 170,
      "outputs": []
    },
    {
      "cell_type": "code",
      "metadata": {
        "colab": {
          "base_uri": "https://localhost:8080/"
        },
        "id": "uEVDLgp2yxkO",
        "outputId": "a1249074-78f4-4f4a-8da4-1a03d344e963"
      },
      "source": [
        "data = NewsDataSet(pretrain, DATA_PATH)"
      ],
      "execution_count": 171,
      "outputs": [
        {
          "output_type": "stream",
          "text": [
            "Reading pretrained vectors from vector_cache/cc.et.300.vec...\n",
            "Reading err articles...\n",
            "Reading paevaleht articles...\n",
            "Reading telegram articles...\n",
            "Reading uued_uudised articles...\n",
            "Reading elu24 articles...\n",
            "Reading postimees articles...\n"
          ],
          "name": "stdout"
        }
      ]
    },
    {
      "cell_type": "code",
      "metadata": {
        "id": "bRyLTyh4x4Gd"
      },
      "source": [
        "# Creating data indices for training and validation splits:\n",
        "dataset_size = len(data)\n",
        "indices = list(range(dataset_size))\n",
        "split = int(np.floor(test_split * dataset_size))\n",
        "if shuffle_dataset:\n",
        "    np.random.seed(random_seed)\n",
        "    np.random.shuffle(indices)\n",
        "train_indices, test_indices = indices[split:], indices[:split]\n",
        "val_split = int(np.floor(validation_split * len(train_indices)))\n",
        "train_indices, val_indices = train_indices[val_split:], train_indices[:val_split]\n",
        "\n",
        "# Creating PT data samplers and loaders:\n",
        "train_sampler = SubsetRandomSampler(train_indices)\n",
        "valid_sampler = SubsetRandomSampler(val_indices)\n",
        "test_sampler = SubsetRandomSampler(test_indices)"
      ],
      "execution_count": 172,
      "outputs": []
    },
    {
      "cell_type": "code",
      "metadata": {
        "id": "pdeRfolayO5D"
      },
      "source": [
        "train_loader = DataLoader(data, batch_size=batch_size, sampler=train_sampler, collate_fn=pad_sequences) \n",
        "validation_loader = DataLoader(data, batch_size=batch_size, sampler=valid_sampler, collate_fn=pad_sequences)\n",
        "test_loader = DataLoader(data, batch_size=batch_size, sampler=test_sampler, collate_fn=pad_sequences)"
      ],
      "execution_count": 173,
      "outputs": []
    },
    {
      "cell_type": "code",
      "metadata": {
        "id": "smugYT1CyS5C"
      },
      "source": [
        "class CNN(nn.Module):\n",
        "    def __init__(self, pretrain, vocab_size, embedding_dim, n_filters, filter_sizes, output_dim, \n",
        "                 dropout, pad_idx):\n",
        "        \n",
        "        super().__init__()\n",
        "                \n",
        "        self.embedding = nn.Embedding.from_pretrained(\n",
        "            torch.from_numpy(pretrain.emb), \n",
        "            padding_idx=pad_idx, \n",
        "            freeze=True\n",
        "        )\n",
        "        \n",
        "        self.convs = nn.ModuleList([\n",
        "                                    nn.Conv2d(in_channels = 1, \n",
        "                                              out_channels = n_filters, \n",
        "                                              kernel_size = (fs, embedding_dim)) \n",
        "                                    for fs in filter_sizes\n",
        "                                    ])\n",
        "        \n",
        "        self.fc = nn.Linear(len(filter_sizes) * n_filters, output_dim)\n",
        "        self.dropout = nn.Dropout(dropout)\n",
        "        \n",
        "    def forward(self, text):           \n",
        "        #text = [batch size, sent len]\n",
        "\n",
        "        embedded = self.embedding(text)     \n",
        "        #embedded = [batch size, sent len, emb dim]\n",
        "        \n",
        "        embedded = embedded.unsqueeze(1)  \n",
        "        #embedded = [batch size, 1, sent len, emb dim]\n",
        "        \n",
        "        conved = [F.relu(conv(embedded)).squeeze(3) for conv in self.convs]    \n",
        "        #conved_n = [batch size, n_filters, sent len - filter_sizes[n] + 1]\n",
        "                \n",
        "        pooled = [F.max_pool1d(conv, conv.shape[2]).squeeze(2) for conv in conved]     \n",
        "        #pooled_n = [batch size, n_filters]\n",
        "        \n",
        "        cat = self.dropout(torch.cat(pooled, dim = 1))\n",
        "        #cat = [batch size, n_filters * len(filter_sizes)]\n",
        "            \n",
        "        #return F.log_softmax(self.fc(cat), dim=1)\n",
        "        return F.log_softmax(self.fc(cat), dim=1)"
      ],
      "execution_count": 174,
      "outputs": []
    },
    {
      "cell_type": "code",
      "metadata": {
        "id": "GMAf4clpyX2u"
      },
      "source": [
        "INPUT_DIM = len(pretrain.vocab)\n",
        "EMBEDDING_DIM = pretrain.emb.shape[1]\n",
        "N_FILTERS = 100\n",
        "FILTER_SIZES = [3,4,5]\n",
        "OUTPUT_DIM = 6\n",
        "DROPOUT = 0.5\n",
        "\n",
        "model = CNN(pretrain, INPUT_DIM, EMBEDDING_DIM, N_FILTERS, FILTER_SIZES, OUTPUT_DIM, DROPOUT, PAD_ID)"
      ],
      "execution_count": 175,
      "outputs": []
    },
    {
      "cell_type": "code",
      "metadata": {
        "id": "OR1imKFoybUl"
      },
      "source": [
        "optimizer = optim.Adam(model.parameters())\n",
        "\n",
        "criterion = nn.CrossEntropyLoss()\n",
        "\n",
        "model = model.to(device)\n",
        "criterion = criterion.to(device)"
      ],
      "execution_count": 176,
      "outputs": []
    },
    {
      "cell_type": "code",
      "metadata": {
        "id": "lTi74XSHydl1"
      },
      "source": [
        "def accuracy(preds, y): \n",
        "    \"\"\"\n",
        "    Returns accuracy per batch, i.e. if you get 8/10 right, this returns 0.8, NOT 8\n",
        "    \"\"\"\n",
        "    max_preds = preds.argmax(1).long()\n",
        "    correct = (max_preds == y).float() #convert into float for division \n",
        "    acc = correct.sum() / len(correct)\n",
        "    return acc"
      ],
      "execution_count": 177,
      "outputs": []
    },
    {
      "cell_type": "code",
      "metadata": {
        "id": "mWME9cnX0jaF"
      },
      "source": [
        "def train(model, iterator, optimizer, criterion):\n",
        "    \n",
        "    epoch_loss = 0\n",
        "    epoch_acc = 0\n",
        "    \n",
        "    model.train()\n",
        "    \n",
        "    for batch in iterator:\n",
        "      optimizer.zero_grad()\n",
        "      predictions = model(batch[0]).squeeze(1) \n",
        "      loss = criterion(predictions, batch[1].long())\n",
        "      acc = accuracy(predictions, batch[1].long())\n",
        "      loss.backward()\n",
        "      optimizer.step()\n",
        "\n",
        "      epoch_loss += loss \n",
        "      epoch_acc += acc \n",
        "        \n",
        "    return epoch_loss / len(iterator), epoch_acc / len(iterator)"
      ],
      "execution_count": 178,
      "outputs": []
    },
    {
      "cell_type": "code",
      "metadata": {
        "id": "_w9mUJFY0lKh"
      },
      "source": [
        "def evaluate(model, iterator, criterion):\n",
        "    \n",
        "    epoch_loss = 0\n",
        "    epoch_acc = 0\n",
        "\n",
        "    model.eval()\n",
        "\n",
        "    preds = []\n",
        "    golds = []\n",
        "\n",
        "    with torch.no_grad():\n",
        "      for batch in iterator: \n",
        "        predictions = model(batch[0]).squeeze(1)\n",
        "        loss = criterion(predictions, batch[1].long())\n",
        "        acc = accuracy(predictions, batch[1].long())\n",
        "        epoch_loss += loss \n",
        "        epoch_acc += acc\n",
        "        preds.extend(predictions.argmax(1).long())\n",
        "        golds.extend(batch[1].long())\n",
        "        \n",
        "    return epoch_loss / len(iterator), epoch_acc / len(iterator), preds, golds"
      ],
      "execution_count": 179,
      "outputs": []
    },
    {
      "cell_type": "code",
      "metadata": {
        "id": "DljBmryy0m54"
      },
      "source": [
        "import time\n",
        "\n",
        "def epoch_time(start_time, end_time):\n",
        "    elapsed_time = end_time - start_time\n",
        "    elapsed_mins = int(elapsed_time / 60)\n",
        "    elapsed_secs = int(elapsed_time - (elapsed_mins * 60))\n",
        "    return elapsed_mins, elapsed_secs"
      ],
      "execution_count": 180,
      "outputs": []
    },
    {
      "cell_type": "code",
      "metadata": {
        "colab": {
          "base_uri": "https://localhost:8080/"
        },
        "id": "W2MKZjBc0oZR",
        "outputId": "e42f4fad-d208-4142-864d-2c66f82b1dbc"
      },
      "source": [
        "N_EPOCHS = 5\n",
        "\n",
        "best_valid_loss = float('inf')\n",
        "final_preds = []\n",
        "final_golds = []\n",
        "\n",
        "for epoch in range(N_EPOCHS):\n",
        "\n",
        "    start_time = time.time()\n",
        "    \n",
        "    train_loss, train_acc = train(model, train_loader, optimizer, criterion)\n",
        "    valid_loss, valid_acc, preds, golds = evaluate(model, validation_loader, criterion)\n",
        "    final_preds.extend(preds)\n",
        "    final_golds.extend(golds)\n",
        "    \n",
        "    end_time = time.time()\n",
        "\n",
        "    epoch_mins, epoch_secs = epoch_time(start_time, end_time)\n",
        "    \n",
        "    if valid_loss < best_valid_loss:\n",
        "        best_valid_loss = valid_loss\n",
        "        torch.save(model.state_dict(), 'news_cnn_classifier.pt')\n",
        "    \n",
        "    print(f'Epoch: {epoch+1:02} | Epoch Time: {epoch_mins}m {epoch_secs}s')\n",
        "    print(f'\\tTrain Loss: {train_loss:.3f} | Train Acc: {train_acc*100:.2f}%')\n",
        "    print(f'\\t Val. Loss: {valid_loss:.3f} |  Val. Acc: {valid_acc*100:.2f}%')"
      ],
      "execution_count": 181,
      "outputs": [
        {
          "output_type": "stream",
          "text": [
            "Epoch: 01 | Epoch Time: 5m 26s\n",
            "\tTrain Loss: 1.576 | Train Acc: 34.43%\n",
            "\t Val. Loss: 1.337 |  Val. Acc: 53.35%\n",
            "Epoch: 02 | Epoch Time: 5m 29s\n",
            "\tTrain Loss: 1.124 | Train Acc: 62.62%\n",
            "\t Val. Loss: 0.950 |  Val. Acc: 66.57%\n",
            "Epoch: 03 | Epoch Time: 5m 15s\n",
            "\tTrain Loss: 0.845 | Train Acc: 67.95%\n",
            "\t Val. Loss: 0.789 |  Val. Acc: 65.18%\n",
            "Epoch: 04 | Epoch Time: 5m 21s\n",
            "\tTrain Loss: 0.725 | Train Acc: 72.53%\n",
            "\t Val. Loss: 0.696 |  Val. Acc: 69.05%\n",
            "Epoch: 05 | Epoch Time: 5m 29s\n",
            "\tTrain Loss: 0.625 | Train Acc: 76.12%\n",
            "\t Val. Loss: 0.662 |  Val. Acc: 67.91%\n"
          ],
          "name": "stdout"
        }
      ]
    },
    {
      "cell_type": "code",
      "metadata": {
        "colab": {
          "base_uri": "https://localhost:8080/"
        },
        "id": "X6BEr5gDkdyW",
        "outputId": "12efe1de-fff7-49c7-bea9-67d7a4f5990f"
      },
      "source": [
        "final_preds = []\n",
        "final_golds = []\n",
        "\n",
        "start_time = time.time()\n",
        "test_loss, test_acc, preds, golds = evaluate(model, test_loader, criterion)\n",
        "final_preds.extend(preds)\n",
        "final_golds.extend(golds)\n",
        "end_time = time.time()\n",
        "epoch_mins, epoch_secs = epoch_time(start_time, end_time)\n",
        "\n",
        "print(f'Epoch: test | Epoch Time: {epoch_mins}m {epoch_secs}s')\n",
        "print(f'\\tTest Loss: {test_loss:.3f} | Test Acc: {test_acc*100:.2f}%')"
      ],
      "execution_count": 182,
      "outputs": [
        {
          "output_type": "stream",
          "text": [
            "Epoch: test | Epoch Time: 0m 26s\n",
            "\tTest Loss: 0.685 | Test Acc: 68.55%\n"
          ],
          "name": "stdout"
        }
      ]
    },
    {
      "cell_type": "code",
      "metadata": {
        "colab": {
          "base_uri": "https://localhost:8080/",
          "height": 631
        },
        "id": "hMPw27HxAIv5",
        "outputId": "8d96e9e8-5765-40c7-8b7b-ca737c407f96"
      },
      "source": [
        "from sklearn.metrics import confusion_matrix\n",
        "import seaborn as sn\n",
        "import pandas as pd\n",
        "import matplotlib.pyplot as plt\n",
        "\n",
        "vocab = {0: 'elu24', 1 : 'err', 2 : 'paevaleht', 3 : 'postimees', 4 : 'telegram', 5: 'uued_uudised'}\n",
        "\n",
        "preds = [vocab[i.item()] for i in final_preds]\n",
        "golds = [vocab[i.item()] for i in final_golds]\n",
        "\n",
        "labels = list(set(preds).union(set(golds)))\n",
        "\n",
        "cm = confusion_matrix(preds, golds, labels=labels)\n",
        "\n",
        "df_cm = pd.DataFrame(cm, labels, labels)\n",
        "plt.figure(figsize=(20, 10))\n",
        "sn.set(font_scale=1.4)\n",
        "sn.heatmap(df_cm, annot=True, annot_kws={\"size\": 16})\n",
        "\n",
        "plt.show()"
      ],
      "execution_count": 183,
      "outputs": [
        {
          "output_type": "display_data",
          "data": {
            "image/png": "[encoded data removed]",
            "text/plain": [
              "<Figure size 1440x720 with 2 Axes>"
            ]
          },
          "metadata": {
            "tags": []
          }
        }
      ]
    }
  ]
}